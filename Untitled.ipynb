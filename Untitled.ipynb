{
 "cells": [
  {
   "cell_type": "code",
   "execution_count": 17,
   "metadata": {
    "collapsed": false
   },
   "outputs": [
    {
     "name": "stdout",
     "output_type": "stream",
     "text": [
      "The autoreload extension is already loaded. To reload it, use:\n",
      "  %reload_ext autoreload\n"
     ]
    }
   ],
   "source": [
    "from __future__ import division\n",
    "import os, numpy as np\n",
    "\n",
    "import matplotlib\n",
    "matplotlib.use('TkAgg')\n",
    "%matplotlib inline\n",
    "\n",
    "import om10\n",
    "from om10 import *\n",
    "from om10 import plotting\n",
    "\n",
    "%load_ext autoreload\n",
    "%autoreload 2"
   ]
  },
  {
   "cell_type": "code",
   "execution_count": 18,
   "metadata": {
    "collapsed": false
   },
   "outputs": [
    {
     "name": "stdout",
     "output_type": "stream",
     "text": [
      "Looking for catalog  qso_mock.fits\n",
      "om10.DB: selection yields  2818  lenses\n"
     ]
    }
   ],
   "source": [
    "quads, doubles = {}, {}\n",
    "\n",
    "LSST = om10.DB()\n",
    "LSST.select_random(maglim=23.3, area=18000.0, IQ=0.7)\n",
    "\n",
    "quads['LSST'] = LSST.sample[LSST.sample['NIMG'] == 4]\n",
    "doubles['LSST'] = LSST.sample[LSST.sample['NIMG'] == 2]"
   ]
  },
  {
   "cell_type": "code",
   "execution_count": 19,
   "metadata": {
    "collapsed": false
   },
   "outputs": [
    {
     "name": "stdout",
     "output_type": "stream",
     "text": [
      " LENSID  FLAGTYPE NIMG ZLENS VELDISP  ... SIGCRIT  DSLUM  L_I REFF REFF_T\n",
      "-------- -------- ---- ----- -------- ... ------- ------- --- ---- ------\n",
      " 7591800        0    4 0.568 195.8845 ...     0.0 9315.27 0.0  0.0    0.0\n",
      " 9104653        0    4  0.61  165.577 ...     0.0 21687.7 0.0  0.0    0.0\n",
      "10473600        0    4 0.644 228.5599 ...     0.0 18722.9 0.0  0.0    0.0\n",
      " 3976745        0    4 0.444 201.3724 ...     0.0 19507.3 0.0  0.0    0.0\n",
      "50124010        0    4 1.266 195.4339 ...     0.0 19016.8 0.0  0.0    0.0\n",
      "  447252        0    4 0.202 281.8383 ...     0.0 3673.45 0.0  0.0    0.0\n",
      "10965953        0    4 0.656 252.3481 ...     0.0 6853.39 0.0  0.0    0.0\n",
      " 9749565        0    4 0.626 289.7344 ...     0.0 16494.7 0.0  0.0    0.0\n",
      "44329018        0    4 1.194 262.4219 ...     0.0 20296.3 0.0  0.0    0.0\n",
      "62866009        0    4 1.414  260.016 ...     0.0 20594.3 0.0  0.0    0.0\n",
      "     ...      ...  ...   ...      ... ...     ...     ... ...  ...    ...\n",
      " 3458521        0    4 0.422 167.4943 ...     0.0 15348.5 0.0  0.0    0.0\n",
      " 4793663        0    4 0.476 259.4179 ...     0.0 23393.4 0.0  0.0    0.0\n",
      " 6853912        0    4 0.546 193.6422 ...     0.0 8708.21 0.0  0.0    0.0\n",
      " 9509290        0    4  0.62 251.1886 ...     0.0 21089.8 0.0  0.0    0.0\n",
      " 3930526        0    4 0.442 215.7744 ...     0.0 19507.3 0.0  0.0    0.0\n",
      "27244335        0    4 0.958 231.2065 ...     0.0 18235.3 0.0  0.0    0.0\n",
      "15586739        0    4 0.756  289.068 ...     0.0 29852.6 0.0  0.0    0.0\n",
      " 8732987        0    4   0.6 194.0886 ...     0.0 18527.6 0.0  0.0    0.0\n",
      "79962096        0    4   1.6 247.7422 ...     0.0 19212.8 0.0  0.0    0.0\n",
      " 1815591        0    4 0.334 126.4736 ...     0.0 15348.5 0.0  0.0    0.0\n",
      "34949959        0    4  1.07 261.8183 ...     0.0 22287.8 0.0  0.0    0.0\n",
      "Length = 412 rows\n",
      " LENSID  FLAGTYPE NIMG ZLENS VELDISP  ... SIGCRIT  DSLUM  L_I REFF REFF_T\n",
      "-------- -------- ---- ----- -------- ... ------- ------- --- ---- ------\n",
      " 9131600        0    2  0.61 250.0345 ...     0.0 18235.3 0.0  0.0    0.0\n",
      "10389252        0    2 0.642 284.4461 ...     0.0 14498.4 0.0  0.0    0.0\n",
      "23814602        0    2 0.904  181.134 ...     0.0 15729.9 0.0  0.0    0.0\n",
      "30176196        0    2 1.002 231.2065 ...     0.0 32256.1 0.0  0.0    0.0\n",
      "25853213        0    2 0.936 287.7398 ...     0.0 29435.8 0.0  0.0    0.0\n",
      " 2847530        0    2 0.392 291.0717 ...     0.0 19704.8 0.0  0.0    0.0\n",
      "67668449        0    2 1.468 204.1738 ...     0.0 26034.5 0.0  0.0    0.0\n",
      "28935411        0    2 0.984 180.7174 ...     0.0 16111.2 0.0  0.0    0.0\n",
      " 3171878        0    2 0.408  236.592 ...     0.0 10999.3 0.0  0.0    0.0\n",
      "36697529        0    2 1.094 293.0893 ...     0.0 17943.3 0.0  0.0    0.0\n",
      "     ...      ...  ...   ...      ... ...     ...     ... ...  ...    ...\n",
      "70985086        0    2 1.504 247.1724 ...     0.0 16686.6 0.0  0.0    0.0\n",
      "67486137        0    2 1.466 198.1527 ...     0.0 28607.0 0.0  0.0    0.0\n",
      " 6352980        0    2  0.53 239.8833 ...     0.0 11813.3 0.0  0.0    0.0\n",
      "30596794        0    2 1.008 250.6109 ...     0.0 34894.3 0.0  0.0    0.0\n",
      "41814175        0    2 1.162 205.5891 ...     0.0 14216.6 0.0  0.0    0.0\n",
      " 4207025        0    2 0.454 176.1976 ...     0.0 17748.4 0.0  0.0    0.0\n",
      "34956484        0    2  1.07 259.4179 ...     0.0 28502.9 0.0  0.0    0.0\n",
      " 2575609        0    2 0.378 240.9905 ...     0.0 19507.3 0.0  0.0    0.0\n",
      "45249994        0    2 1.206 194.0886 ...     0.0 35956.6 0.0  0.0    0.0\n",
      " 2872092        0    2 0.394 175.3881 ...     0.0 20792.6 0.0  0.0    0.0\n",
      "  396459        0    2 0.194 203.2357 ...     0.0 8881.02 0.0  0.0    0.0\n",
      "Length = 2400 rows\n"
     ]
    },
    {
     "ename": "AttributeError",
     "evalue": "'module' object has no attribute 'plot_sample'",
     "output_type": "error",
     "traceback": [
      "\u001b[0;31m---------------------------------------------------------------------------\u001b[0m",
      "\u001b[0;31mAttributeError\u001b[0m                            Traceback (most recent call last)",
      "\u001b[0;32m<ipython-input-19-47116bb6c138>\u001b[0m in \u001b[0;36m<module>\u001b[0;34m()\u001b[0m\n\u001b[1;32m      1\u001b[0m \u001b[0;32mprint\u001b[0m \u001b[0mquads\u001b[0m\u001b[0;34m[\u001b[0m\u001b[0;34m'LSST'\u001b[0m\u001b[0;34m]\u001b[0m\u001b[0;34m\u001b[0m\u001b[0m\n\u001b[1;32m      2\u001b[0m \u001b[0;32mprint\u001b[0m \u001b[0mdoubles\u001b[0m\u001b[0;34m[\u001b[0m\u001b[0;34m'LSST'\u001b[0m\u001b[0;34m]\u001b[0m\u001b[0;34m\u001b[0m\u001b[0m\n\u001b[0;32m----> 3\u001b[0;31m \u001b[0mfig\u001b[0m \u001b[0;34m=\u001b[0m \u001b[0mom10\u001b[0m\u001b[0;34m.\u001b[0m\u001b[0mplot_sample\u001b[0m\u001b[0;34m(\u001b[0m\u001b[0mdoubles\u001b[0m\u001b[0;34m[\u001b[0m\u001b[0;34m'LSST'\u001b[0m\u001b[0;34m]\u001b[0m\u001b[0;34m,\u001b[0m \u001b[0mcolor\u001b[0m\u001b[0;34m=\u001b[0m\u001b[0;34m'blue'\u001b[0m\u001b[0;34m)\u001b[0m\u001b[0;34m\u001b[0m\u001b[0m\n\u001b[0m\u001b[1;32m      4\u001b[0m \u001b[0mfig\u001b[0m \u001b[0;34m=\u001b[0m \u001b[0mom10\u001b[0m\u001b[0;34m.\u001b[0m\u001b[0mplot_sample\u001b[0m\u001b[0;34m(\u001b[0m\u001b[0mquads\u001b[0m\u001b[0;34m[\u001b[0m\u001b[0;34m'LSST'\u001b[0m\u001b[0;34m]\u001b[0m\u001b[0;34m,\u001b[0m \u001b[0mcolor\u001b[0m\u001b[0;34m=\u001b[0m\u001b[0;34m'red'\u001b[0m\u001b[0;34m,\u001b[0m \u001b[0mfig\u001b[0m\u001b[0;34m=\u001b[0m\u001b[0mfig\u001b[0m\u001b[0;34m)\u001b[0m\u001b[0;34m\u001b[0m\u001b[0m\n",
      "\u001b[0;31mAttributeError\u001b[0m: 'module' object has no attribute 'plot_sample'"
     ]
    }
   ],
   "source": [
    "print quads['LSST']\n",
    "print doubles['LSST']\n",
    "fig = om10.plot_sample(doubles['LSST'], color='blue')\n",
    "fig = om10.plot_sample(quads['LSST'], color='red', fig=fig)"
   ]
  }
 ],
 "metadata": {
  "anaconda-cloud": {},
  "kernelspec": {
   "display_name": "Python [conda env:python2]",
   "language": "python",
   "name": "conda-env-python2-py"
  },
  "language_info": {
   "codemirror_mode": {
    "name": "ipython",
    "version": 2
   },
   "file_extension": ".py",
   "mimetype": "text/x-python",
   "name": "python",
   "nbconvert_exporter": "python",
   "pygments_lexer": "ipython2",
   "version": "2.7.12"
  }
 },
 "nbformat": 4,
 "nbformat_minor": 1
}
