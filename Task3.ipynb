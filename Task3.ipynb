{
 "cells": [
  {
   "cell_type": "code",
   "execution_count": 11,
   "metadata": {
    "collapsed": false
   },
   "outputs": [
    {
     "name": "stdout",
     "output_type": "stream",
     "text": [
      "Populating the interactive namespace from numpy and matplotlib\n"
     ]
    }
   ],
   "source": [
    "import pandas as pd\n",
    "pd.set_option('display.max_columns', None)\n",
    "%pylab inline\n",
    "import seaborn as sns\n",
    "import matplotlib as plt\n",
    "sns.set()\n",
    "import copy\n",
    "from __future__ import print_function\n",
    "# move your method into the directory\n",
    "import color"
   ]
  },
  {
   "cell_type": "code",
   "execution_count": 12,
   "metadata": {
    "collapsed": false,
    "scrolled": true
   },
   "outputs": [],
   "source": [
    "\n",
    "# Read the data\n",
    "qsos = pd.read_csv(\"../StatisticalMethods/examples/SDSScatalog/data/qso10000.csv\",index_col=0)\n",
    "                   \n",
    "                   #,usecols=[\"objid\",\"dered_r\",\"spec_z\",\"u_g_color\",\\\n",
    "                   #                             \"g_r_color\",\"r_i_color\",\"i_z_color\",\"diff_u\",\\\n",
    "                   #                             \"diff_g1\",\"diff_i\",\"diff_z\"])\n",
    "\n",
    "# Clean out extreme colors and bad magnitudes:\n",
    "qsos = qsos[(qsos[\"dered_r\"] > -9999) & (qsos[\"g_r_color\"] > -10) & (qsos[\"g_r_color\"] < 10)]\n",
    "qsos.head()\n",
    "qso = qsos.as_matrix()"
   ]
  },
  {
   "cell_type": "code",
   "execution_count": null,
   "metadata": {
    "collapsed": true
   },
   "outputs": [],
   "source": [
    "# initialize the histogram\n",
    "plt.xlabel(\"redshift\")\n",
    "plt.ylabel(\"apparent magnitude difference\")\n",
    "x = np.array([1,2,3,4])\n",
    "xticks = ['R','G','I','Z']\n",
    "plt.xticks(x, xticks)"
   ]
  },
  {
   "cell_type": "code",
   "execution_count": 13,
   "metadata": {
    "collapsed": false
   },
   "outputs": [
    {
     "ename": "SyntaxError",
     "evalue": "invalid syntax (<ipython-input-13-6cb9fb84ce99>, line 3)",
     "output_type": "error",
     "traceback": [
      "\u001b[0;36m  File \u001b[0;32m\"<ipython-input-13-6cb9fb84ce99>\"\u001b[0;36m, line \u001b[0;32m3\u001b[0m\n\u001b[0;31m    source1 =\u001b[0m\n\u001b[0m              ^\u001b[0m\n\u001b[0;31mSyntaxError\u001b[0m\u001b[0;31m:\u001b[0m invalid syntax\n"
     ]
    }
   ],
   "source": [
    "# pick three random quasars\n",
    "\n",
    "source1 = \n",
    "source2 =\n",
    "source3 = \n",
    "\n",
    "# for each source assign an array\n",
    "\n",
    "# initialize the numpy array\n",
    "magDiff = np.empty(4)\n",
    "r_real = source[\"rmag\"]\n",
    "g_real = source[\"gmag\"]\n",
    "i_real = source[\"imag\"]\n",
    "z_real = source[\"zmag\"]\n",
    "redshift = source[\"spec_z\"]\n",
    "r_calc, g_calc, i_calc, z_calc = color.CalculateMagnitude('data', 'source', redshift)\n",
    "r_diff = r_calc-r_real\n",
    "g_diff = g_calc-g_real\n",
    "i_diff = i_calc-i_real\n",
    "z_diff = z_calc-z_real\n",
    "y_diff = np.array([r_diff,g_diff,i_diff,z_diff])\n",
    "lens = plt.plot(x, y_diff, 'bo-', label = redshift)"
   ]
  },
  {
   "cell_type": "code",
   "execution_count": null,
   "metadata": {
    "collapsed": true
   },
   "outputs": [],
   "source": [
    "plt.legend()\n",
    "plt.ylim(0, 2)\n",
    "plt.savefig('graph_T3.png')"
   ]
  },
  {
   "cell_type": "code",
   "execution_count": null,
   "metadata": {
    "collapsed": false
   },
   "outputs": [],
   "source": [
    "# pick a random quasar\n",
    "# get a redshift\n",
    "#print qso.iloc[3:4,2:3]\n",
    "#print one[\"spec_z\"]\n",
    "r_real = \n",
    "#r, g, i, z = color.CalculateMagnitude('data', 'source', one[\"spec_z\"])"
   ]
  },
  {
   "cell_type": "code",
   "execution_count": null,
   "metadata": {
    "collapsed": true
   },
   "outputs": [],
   "source": []
  }
 ],
 "metadata": {
  "anaconda-cloud": {},
  "kernelspec": {
   "display_name": "Python [conda env:python2]",
   "language": "python",
   "name": "conda-env-python2-py"
  },
  "language_info": {
   "codemirror_mode": {
    "name": "ipython",
    "version": 2
   },
   "file_extension": ".py",
   "mimetype": "text/x-python",
   "name": "python",
   "nbconvert_exporter": "python",
   "pygments_lexer": "ipython2",
   "version": "2.7.12"
  }
 },
 "nbformat": 4,
 "nbformat_minor": 1
}
