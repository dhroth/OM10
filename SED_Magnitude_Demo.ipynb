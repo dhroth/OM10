{
 "cells": [
  {
   "cell_type": "raw",
   "metadata": {},
   "source": [
    "This notebook shows how to calculate the magnitude of either a quasar or a lens in a given filter using stellorpop."
   ]
  },
  {
   "cell_type": "code",
   "execution_count": 1,
   "metadata": {
    "collapsed": true
   },
   "outputs": [],
   "source": [
    "from stellarpop import tools"
   ]
  },
  {
   "cell_type": "code",
   "execution_count": 2,
   "metadata": {
    "collapsed": false
   },
   "outputs": [
    {
     "name": "stdout",
     "output_type": "stream",
     "text": [
      "-16.207129483\n"
     ]
    }
   ],
   "source": [
    "source_redshift = 3.0\n",
    "sed = tools.getSED('QSO2_template_norm') # change to quasar SED\n",
    "colorFilter = tools.filterfromfile('r_SDSS')\n",
    "source_AB_mag_abs = tools.ABFilterMagnitude(colorFilter, sed, source_redshift)\n",
    "print source_AB_mag_abs"
   ]
  },
  {
   "cell_type": "code",
   "execution_count": 3,
   "metadata": {
    "collapsed": false
   },
   "outputs": [
    {
     "name": "stdout",
     "output_type": "stream",
     "text": [
      "-19.3962460114\n"
     ]
    }
   ],
   "source": [
    "lens_redshift = 1.5\n",
    "sed = tools.getSED('M82_template_norm') # change to galaxy SED\n",
    "colorFilter = tools.filterfromfile('r_SDSS')\n",
    "lens_AB_mag_abs = tools.ABFilterMagnitude(colorFilter, sed, lens_redshift)\n",
    "print lens_AB_mag_abs"
   ]
  },
  {
   "cell_type": "code",
   "execution_count": 4,
   "metadata": {
    "collapsed": false
   },
   "outputs": [
    {
     "name": "stdout",
     "output_type": "stream",
     "text": [
      "-19.8335408911\n"
     ]
    }
   ],
   "source": [
    "lens_redshift = 1.0\n",
    "sed = tools.getSED('M82_template_norm') # change to galaxy SED\n",
    "colorFilter = tools.filterfromfile('r_SDSS')\n",
    "lens_AB_mag_abs = tools.ABFilterMagnitude(colorFilter, sed, lens_redshift)\n",
    "print lens_AB_mag_abs"
   ]
  },
  {
   "cell_type": "code",
   "execution_count": 5,
   "metadata": {
    "collapsed": false
   },
   "outputs": [
    {
     "name": "stdout",
     "output_type": "stream",
     "text": [
      "-20.1772270334\n"
     ]
    }
   ],
   "source": [
    "source_redshift = 1.0\n",
    "sed = tools.getSED('QSO2_template_norm') # change to quasar SED\n",
    "colorFilter = tools.filterfromfile('r_SDSS')\n",
    "source_AB_mag_abs = tools.ABFilterMagnitude(colorFilter , sed, lens_redshift)\n",
    "print source_AB_mag_abs"
   ]
  }
 ],
 "metadata": {
  "anaconda-cloud": {},
  "kernelspec": {
   "display_name": "Python [conda env:python2]",
   "language": "python",
   "name": "conda-env-python2-py"
  },
  "language_info": {
   "codemirror_mode": {
    "name": "ipython",
    "version": 2
   },
   "file_extension": ".py",
   "mimetype": "text/x-python",
   "name": "python",
   "nbconvert_exporter": "python",
   "pygments_lexer": "ipython2",
   "version": "2.7.12"
  }
 },
 "nbformat": 4,
 "nbformat_minor": 1
}
