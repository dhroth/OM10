{
 "cells": [
  {
   "cell_type": "code",
   "execution_count": 1,
   "metadata": {
    "collapsed": false
   },
   "outputs": [
    {
     "name": "stderr",
     "output_type": "stream",
     "text": [
      "/Users/Jenny/anaconda/envs/python2/lib/python2.7/site-packages/matplotlib/font_manager.py:273: UserWarning: Matplotlib is building the font cache using fc-list. This may take a moment.\n",
      "  warnings.warn('Matplotlib is building the font cache using fc-list. This may take a moment.')\n"
     ]
    },
    {
     "name": "stdout",
     "output_type": "stream",
     "text": [
      "Populating the interactive namespace from numpy and matplotlib\n"
     ]
    }
   ],
   "source": [
    "import pandas as pd\n",
    "pd.set_option('display.max_columns', None)\n",
    "%pylab inline\n",
    "import seaborn as sns\n",
    "sns.set()\n",
    "import copy\n",
    "from __future__ import print_function"
   ]
  },
  {
   "cell_type": "code",
   "execution_count": 2,
   "metadata": {
    "collapsed": false
   },
   "outputs": [
    {
     "data": {
      "text/html": [
       "<div>\n",
       "<table border=\"1\" class=\"dataframe\">\n",
       "  <thead>\n",
       "    <tr style=\"text-align: right;\">\n",
       "      <th></th>\n",
       "      <th>dered_r</th>\n",
       "      <th>spec_z</th>\n",
       "      <th>u_g_color</th>\n",
       "      <th>g_r_color</th>\n",
       "      <th>r_i_color</th>\n",
       "      <th>i_z_color</th>\n",
       "      <th>diff_u</th>\n",
       "      <th>diff_g1</th>\n",
       "      <th>diff_i</th>\n",
       "      <th>diff_z</th>\n",
       "    </tr>\n",
       "    <tr>\n",
       "      <th>objid</th>\n",
       "      <th></th>\n",
       "      <th></th>\n",
       "      <th></th>\n",
       "      <th></th>\n",
       "      <th></th>\n",
       "      <th></th>\n",
       "      <th></th>\n",
       "      <th></th>\n",
       "      <th></th>\n",
       "      <th></th>\n",
       "    </tr>\n",
       "  </thead>\n",
       "  <tbody>\n",
       "    <tr>\n",
       "      <th>1237648720142532813</th>\n",
       "      <td>19.25328</td>\n",
       "      <td>0.652417</td>\n",
       "      <td>0.331583</td>\n",
       "      <td>0.058027</td>\n",
       "      <td>0.099751</td>\n",
       "      <td>0.020077</td>\n",
       "      <td>-0.073151</td>\n",
       "      <td>-0.074903</td>\n",
       "      <td>-0.094942</td>\n",
       "      <td>-0.079136</td>\n",
       "    </tr>\n",
       "    <tr>\n",
       "      <th>1237658425156829371</th>\n",
       "      <td>19.16626</td>\n",
       "      <td>1.537123</td>\n",
       "      <td>0.047575</td>\n",
       "      <td>0.181847</td>\n",
       "      <td>0.234743</td>\n",
       "      <td>-0.128612</td>\n",
       "      <td>-0.007589</td>\n",
       "      <td>-0.017090</td>\n",
       "      <td>-0.010700</td>\n",
       "      <td>-0.020636</td>\n",
       "    </tr>\n",
       "    <tr>\n",
       "      <th>1237660413189095710</th>\n",
       "      <td>18.70672</td>\n",
       "      <td>1.467101</td>\n",
       "      <td>0.214582</td>\n",
       "      <td>0.182318</td>\n",
       "      <td>0.121645</td>\n",
       "      <td>-0.028202</td>\n",
       "      <td>-0.007397</td>\n",
       "      <td>0.002148</td>\n",
       "      <td>0.006218</td>\n",
       "      <td>-0.012548</td>\n",
       "    </tr>\n",
       "    <tr>\n",
       "      <th>1237660412651962520</th>\n",
       "      <td>19.52941</td>\n",
       "      <td>1.014217</td>\n",
       "      <td>0.136745</td>\n",
       "      <td>0.222052</td>\n",
       "      <td>-0.120590</td>\n",
       "      <td>0.125301</td>\n",
       "      <td>0.001118</td>\n",
       "      <td>-0.005716</td>\n",
       "      <td>-0.020527</td>\n",
       "      <td>0.022139</td>\n",
       "    </tr>\n",
       "    <tr>\n",
       "      <th>1237658493336944662</th>\n",
       "      <td>18.15901</td>\n",
       "      <td>0.215603</td>\n",
       "      <td>0.052462</td>\n",
       "      <td>0.247498</td>\n",
       "      <td>0.387709</td>\n",
       "      <td>0.011444</td>\n",
       "      <td>-0.098282</td>\n",
       "      <td>-0.244150</td>\n",
       "      <td>-0.238779</td>\n",
       "      <td>-0.271137</td>\n",
       "    </tr>\n",
       "  </tbody>\n",
       "</table>\n",
       "</div>"
      ],
      "text/plain": [
       "                      dered_r    spec_z  u_g_color  g_r_color  r_i_color  \\\n",
       "objid                                                                      \n",
       "1237648720142532813  19.25328  0.652417   0.331583   0.058027   0.099751   \n",
       "1237658425156829371  19.16626  1.537123   0.047575   0.181847   0.234743   \n",
       "1237660413189095710  18.70672  1.467101   0.214582   0.182318   0.121645   \n",
       "1237660412651962520  19.52941  1.014217   0.136745   0.222052  -0.120590   \n",
       "1237658493336944662  18.15901  0.215603   0.052462   0.247498   0.387709   \n",
       "\n",
       "                     i_z_color    diff_u   diff_g1    diff_i    diff_z  \n",
       "objid                                                                   \n",
       "1237648720142532813   0.020077 -0.073151 -0.074903 -0.094942 -0.079136  \n",
       "1237658425156829371  -0.128612 -0.007589 -0.017090 -0.010700 -0.020636  \n",
       "1237660413189095710  -0.028202 -0.007397  0.002148  0.006218 -0.012548  \n",
       "1237660412651962520   0.125301  0.001118 -0.005716 -0.020527  0.022139  \n",
       "1237658493336944662   0.011444 -0.098282 -0.244150 -0.238779 -0.271137  "
      ]
     },
     "execution_count": 2,
     "metadata": {},
     "output_type": "execute_result"
    }
   ],
   "source": [
    "qsos = pd.read_csv(\"../../StatisticalMethods/examples/SDSScatalog/data/qso10000.csv\")\n",
    "qsos.head()"
   ]
  }
 ],
 "metadata": {
  "anaconda-cloud": {},
  "kernelspec": {
   "display_name": "Python [conda env:python2]",
   "language": "python",
   "name": "conda-env-python2-py"
  },
  "language_info": {
   "codemirror_mode": {
    "name": "ipython",
    "version": 2
   },
   "file_extension": ".py",
   "mimetype": "text/x-python",
   "name": "python",
   "nbconvert_exporter": "python",
   "pygments_lexer": "ipython2",
   "version": "2.7.12"
  }
 },
 "nbformat": 4,
 "nbformat_minor": 1
}
