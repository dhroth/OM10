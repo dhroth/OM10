{
 "cells": [
  {
   "cell_type": "code",
   "execution_count": null,
   "metadata": {
    "collapsed": true
   },
   "outputs": [],
   "source": [
    "import pandas as pd\n",
    "import seaborn as sns\n",
    "%pylab inline\n",
    "%matplotlib inline\n",
    "import matplotlib.pyplot as plt\n",
    "import copy\n",
    "import color_t\n",
    "pd.set_option('display.max_columns', None)\n",
    "sns.set()\n",
    "import random\n",
    "import corner\n",
    "import numpy as np\n",
    "from om10 import plotting\n",
    "from astropy.table import Table"
   ]
  },
  {
   "cell_type": "code",
   "execution_count": null,
   "metadata": {
    "collapsed": true
   },
   "outputs": [],
   "source": [
    "# Read the data\n",
    "pd.set_option('display.max_columns', None)\n",
    "qsos = pd.read_csv(\"../StatisticalMethods/examples/SDSScatalog/data/qso10000.csv\",index_col=0)\n",
    "# Clean out extreme colors and bad magnitudes:\n",
    "qsos = qsos[(qsos[\"dered_r\"] > -9999) & (qsos[\"g_r_color\"] > -10) & (qsos[\"g_r_color\"] < 10)]\n",
    "# Change to Numpy Array because it is easier to manipulate\n",
    "qso = qsos.as_matrix()"
   ]
  },
  {
   "cell_type": "code",
   "execution_count": null,
   "metadata": {
    "collapsed": true
   },
   "outputs": [],
   "source": [
    "# color the quasars with the method written\n",
    "z=[]\n",
    "i=[]\n",
    "gr=[]\n",
    "ri=[]\n",
    "iz=[]\n",
    "for number in range(10):\n",
    "    # key : ra dec dered_u dered_g dered_r dered_i dered_z mag_u mag_g mag_r \n",
    "    # mag_i mag_z spec_z u_g_color g_r_color r_i color i_z carlar ...\n",
    "    rand = random.randint(0, len(qso))\n",
    "    redshift = qso[rand][12]\n",
    "    r_calc, g_calc, i_calc, z_calc = color_t.CalculateMagnitude('data', 'source', redshift)\n",
    "    g_r = g_calc-r_calc\n",
    "    r_i = r_calc-i_calc\n",
    "    i_z = i_calc-z_calc\n",
    "    z.append(redshift)\n",
    "    i.append(i_calc)\n",
    "    gr.append(g_r)\n",
    "    ri.append(r_i)\n",
    "    iz.append(i_z)"
   ]
  },
  {
   "cell_type": "code",
   "execution_count": null,
   "metadata": {
    "collapsed": true
   },
   "outputs": [],
   "source": [
    "matplotlib.rc('text', usetex=False)\n",
    "# plot the above colored lens\n",
    "data = Table({'MAGI': i, 'ZLENS': z, 'GR': gr, 'RI': ri, 'IZ': iz}, names=['MAGI', 'ZLENS', 'GR', 'RI', 'IZ'])\n",
    "features, labels = plotting.extract_features(data, ('MAGI','ZLENS', 'GR', 'RI', 'IZ'))\n",
    "fig1 = corner.corner(features, labels=labels, color='blue', smooth=1.0)"
   ]
  },
  {
   "cell_type": "code",
   "execution_count": null,
   "metadata": {
    "collapsed": true
   },
   "outputs": [],
   "source": [
    "z = qsos[\"spec_z\"].as_matrix()\n",
    "i = qsos[\"mag_i\"].as_matrix()\n",
    "gr = qsos[\"g_r_color\"].as_matrix()\n",
    "ri = qsos[\"r_i_color\"].as_matrix()\n",
    "iz = qsos[\"i_z_color\"].as_matrix()"
   ]
  },
  {
   "cell_type": "code",
   "execution_count": null,
   "metadata": {
    "collapsed": true
   },
   "outputs": [],
   "source": [
    "matplotlib.rc('text', usetex=False)\n",
    "# plot the above colored lens\n",
    "data = Table({'MAGI': i, 'ZLENS': z, 'GR': gr, 'RI': ri, 'IZ': iz}, names=['MAGI', 'ZLENS', 'GR', 'RI', 'IZ'])\n",
    "features, label = plotting.extract_features(data, ('MAGI','ZLENS', 'GR', 'RI', 'IZ'))\n",
    "corner.corner(features, labels=labels, color='red', smooth=1.0, fig=fig1)"
   ]
  }
 ],
 "metadata": {
  "anaconda-cloud": {},
  "kernelspec": {
   "display_name": "Python [conda env:python2]",
   "language": "python",
   "name": "conda-env-python2-py"
  },
  "language_info": {
   "codemirror_mode": {
    "name": "ipython",
    "version": 2
   },
   "file_extension": ".py",
   "mimetype": "text/x-python",
   "name": "python",
   "nbconvert_exporter": "python",
   "pygments_lexer": "ipython2",
   "version": "2.7.12"
  }
 },
 "nbformat": 4,
 "nbformat_minor": 1
}
