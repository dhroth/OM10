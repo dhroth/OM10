{
 "cells": [
  {
   "cell_type": "raw",
   "metadata": {},
   "source": [
    "This is a scatter plot of the differences between the newly-calculated I band magnitude and APMAG_I column.\n",
    "I drew two graphs: differences verses 1) the lenspop i-band magnitude and 2) the redshift."
   ]
  },
  {
   "cell_type": "code",
   "execution_count": 1,
   "metadata": {
    "collapsed": false
   },
   "outputs": [
    {
     "name": "stderr",
     "output_type": "stream",
     "text": [
      "/Users/Jenny/anaconda/envs/python2/lib/python2.7/site-packages/matplotlib/font_manager.py:273: UserWarning: Matplotlib is building the font cache using fc-list. This may take a moment.\n",
      "  warnings.warn('Matplotlib is building the font cache using fc-list. This may take a moment.')\n",
      "/Users/Jenny/anaconda/envs/python2/lib/python2.7/site-packages/matplotlib/__init__.py:1357: UserWarning:  This call to matplotlib.use() has no effect\n",
      "because the backend has already been chosen;\n",
      "matplotlib.use() must be called *before* pylab, matplotlib.pyplot,\n",
      "or matplotlib.backends is imported for the first time.\n",
      "\n",
      "  warnings.warn(_use_error_msg)\n",
      "WARNING:root:Deprecation Warning: 'triangle' has been renamed to 'corner'. This shim should continue to work but you should use 'import corner' in new code. https://github.com/dfm/corner.py\n"
     ]
    }
   ],
   "source": [
    "# run OM10 to draw the scatter\n",
    "%matplotlib inline\n",
    "from __future__ import division\n",
    "import om10,os\n",
    "import numpy as np\n",
    "import matplotlib\n",
    "matplotlib.use('Agg')\n",
    "import matplotlib.pyplot as plt\n",
    "plt.rc('text', usetex=False)\n",
    "import triangle"
   ]
  },
  {
   "cell_type": "code",
   "execution_count": 2,
   "metadata": {
    "collapsed": false,
    "scrolled": true
   },
   "outputs": [
    {
     "name": "stdout",
     "output_type": "stream",
     "text": [
      "  LENSID  FLAGTYPE NIMG ZLENS VELDISP  ... SIGCRIT  DSLUM  L_I REFF REFF_T\n",
      "--------- -------- ---- ----- -------- ... ------- ------- --- ---- ------\n",
      "    14428        0    2 0.062 264.2409 ...     0.0 35956.6 0.0  0.0    0.0\n",
      "    21703        0    2 0.072 165.1962 ...     0.0  8193.9 0.0  0.0    0.0\n",
      "    31711        0    2 0.082 155.9553 ...     0.0 35956.6 0.0  0.0    0.0\n",
      "    34331        0    2 0.084 172.5838 ...     0.0 14498.4 0.0  0.0    0.0\n",
      "    51810        0    2 0.096 244.9063 ...     0.0 26239.2 0.0  0.0    0.0\n",
      "    83414        0    2 0.114   154.17 ...     0.0 11904.1 0.0  0.0    0.0\n",
      "   115074        0    2 0.128 113.5011 ...     0.0 7101.16 0.0  0.0    0.0\n",
      "   125027        0    2  0.13 247.1724 ...     0.0 16302.5 0.0  0.0    0.0\n",
      "   147709        0    2 0.138 200.9093 ...     0.0 17748.4 0.0  0.0    0.0\n",
      "   180815        0    2 0.148 185.3532 ...     0.0 14029.4 0.0  0.0    0.0\n",
      "      ...      ...  ...   ...      ... ...     ...     ... ...  ...    ...\n",
      "113167635        0    2 1.936 250.6109 ...     0.0 47637.1 0.0  0.0    0.0\n",
      "115614728        0    4  1.96 242.1029 ...     0.0 38304.5 0.0  0.0    0.0\n",
      "118666840        0    2  1.99 207.9697 ...     0.0 27265.9 0.0  0.0    0.0\n",
      "120546345        0    2 2.008 281.8383 ...     0.0 28090.1 0.0  0.0    0.0\n",
      "123598414        0    2 2.038 199.5262 ...     0.0 31000.1 0.0  0.0    0.0\n",
      "129002676        0    2  2.09 236.0478 ...     0.0 39270.7 0.0  0.0    0.0\n",
      "138366386        0    2  2.18 227.5097 ...     0.0 36169.7 0.0  0.0    0.0\n",
      "157075130        0    2 2.358 258.8213 ...     0.0 29955.8 0.0  0.0    0.0\n",
      "168229053        0    2 2.464 200.9093 ...     0.0 48954.0 0.0  0.0    0.0\n",
      "185790887        0    2  2.63 215.7744 ...     0.0 42184.9 0.0  0.0    0.0\n",
      "193208710        0    2   2.7 259.4179 ...     0.0 37235.8 0.0  0.0    0.0\n",
      "Length = 15658 rows\n"
     ]
    }
   ],
   "source": [
    "# two different constructors\n",
    "db_prev = om10.DB(catalog='../data/qso_mock.fits')\n",
    "print db_prev.lenses"
   ]
  },
  {
   "cell_type": "code",
   "execution_count": 3,
   "metadata": {
    "collapsed": false
   },
   "outputs": [
    {
     "name": "stdout",
     "output_type": "stream",
     "text": [
      "  LENSID  FLAGTYPE NIMG ZLENS VELDISP  ... SIGCRIT  DSLUM  L_I REFF REFF_T\n",
      "--------- -------- ---- ----- -------- ... ------- ------- --- ---- ------\n",
      "    14428        0    2 0.062 264.2409 ...     0.0 35956.6 0.0  0.0    0.0\n",
      "    21703        0    2 0.072 165.1962 ...     0.0  8193.9 0.0  0.0    0.0\n",
      "    31711        0    2 0.082 155.9553 ...     0.0 35956.6 0.0  0.0    0.0\n",
      "    34331        0    2 0.084 172.5838 ...     0.0 14498.4 0.0  0.0    0.0\n",
      "    51810        0    2 0.096 244.9063 ...     0.0 26239.2 0.0  0.0    0.0\n",
      "    83414        0    2 0.114   154.17 ...     0.0 11904.1 0.0  0.0    0.0\n",
      "   115074        0    2 0.128 113.5011 ...     0.0 7101.16 0.0  0.0    0.0\n",
      "   125027        0    2  0.13 247.1724 ...     0.0 16302.5 0.0  0.0    0.0\n",
      "   147709        0    2 0.138 200.9093 ...     0.0 17748.4 0.0  0.0    0.0\n",
      "   180815        0    2 0.148 185.3532 ...     0.0 14029.4 0.0  0.0    0.0\n",
      "      ...      ...  ...   ...      ... ...     ...     ... ...  ...    ...\n",
      "113167635        0    2 1.936 250.6109 ...     0.0 47637.1 0.0  0.0    0.0\n",
      "115614728        0    4  1.96 242.1029 ...     0.0 38304.5 0.0  0.0    0.0\n",
      "118666840        0    2  1.99 207.9697 ...     0.0 27265.9 0.0  0.0    0.0\n",
      "120546345        0    2 2.008 281.8383 ...     0.0 28090.1 0.0  0.0    0.0\n",
      "123598414        0    2 2.038 199.5262 ...     0.0 31000.1 0.0  0.0    0.0\n",
      "129002676        0    2  2.09 236.0478 ...     0.0 39270.7 0.0  0.0    0.0\n",
      "138366386        0    2  2.18 227.5097 ...     0.0 36169.7 0.0  0.0    0.0\n",
      "157075130        0    2 2.358 258.8213 ...     0.0 29955.8 0.0  0.0    0.0\n",
      "168229053        0    2 2.464 200.9093 ...     0.0 48954.0 0.0  0.0    0.0\n",
      "185790887        0    2  2.63 215.7744 ...     0.0 42184.9 0.0  0.0    0.0\n",
      "193208710        0    2   2.7 259.4179 ...     0.0 37235.8 0.0  0.0    0.0\n",
      "Length = 15658 rows\n"
     ]
    }
   ],
   "source": [
    "# two different constructors\n",
    "db = om10.DB(catalog='../data/qso_mock.fits')\n",
    "print db.lenses"
   ]
  },
  {
   "cell_type": "code",
   "execution_count": null,
   "metadata": {
    "collapsed": false
   },
   "outputs": [
    {
     "name": "stdout",
     "output_type": "stream",
     "text": [
      "  LENSID  FLAGTYPE NIMG ZLENS VELDISP  ... SIGCRIT  DSLUM  L_I REFF REFF_T\n",
      "--------- -------- ---- ----- -------- ... ------- ------- --- ---- ------\n",
      "    14428        0    2 0.062 264.2409 ...     0.0 35956.6 0.0  0.0    0.0\n",
      "    21703        0    2 0.072 165.1962 ...     0.0  8193.9 0.0  0.0    0.0\n",
      "    31711        0    2 0.082 155.9553 ...     0.0 35956.6 0.0  0.0    0.0\n",
      "    34331        0    2 0.084 172.5838 ...     0.0 14498.4 0.0  0.0    0.0\n",
      "    51810        0    2 0.096 244.9063 ...     0.0 26239.2 0.0  0.0    0.0\n",
      "    83414        0    2 0.114   154.17 ...     0.0 11904.1 0.0  0.0    0.0\n",
      "   115074        0    2 0.128 113.5011 ...     0.0 7101.16 0.0  0.0    0.0\n",
      "   125027        0    2  0.13 247.1724 ...     0.0 16302.5 0.0  0.0    0.0\n",
      "   147709        0    2 0.138 200.9093 ...     0.0 17748.4 0.0  0.0    0.0\n",
      "   180815        0    2 0.148 185.3532 ...     0.0 14029.4 0.0  0.0    0.0\n",
      "      ...      ...  ...   ...      ... ...     ...     ... ...  ...    ...\n",
      "113167635        0    2 1.936 250.6109 ...     0.0 47637.1 0.0  0.0    0.0\n",
      "115614728        0    4  1.96 242.1029 ...     0.0 38304.5 0.0  0.0    0.0\n",
      "118666840        0    2  1.99 207.9697 ...     0.0 27265.9 0.0  0.0    0.0\n",
      "120546345        0    2 2.008 281.8383 ...     0.0 28090.1 0.0  0.0    0.0\n",
      "123598414        0    2 2.038 199.5262 ...     0.0 31000.1 0.0  0.0    0.0\n",
      "129002676        0    2  2.09 236.0478 ...     0.0 39270.7 0.0  0.0    0.0\n",
      "138366386        0    2  2.18 227.5097 ...     0.0 36169.7 0.0  0.0    0.0\n",
      "157075130        0    2 2.358 258.8213 ...     0.0 29955.8 0.0  0.0    0.0\n",
      "168229053        0    2 2.464 200.9093 ...     0.0 48954.0 0.0  0.0    0.0\n",
      "185790887        0    2  2.63 215.7744 ...     0.0 42184.9 0.0  0.0    0.0\n",
      "193208710        0    2   2.7 259.4179 ...     0.0 37235.8 0.0  0.0    0.0\n",
      "Length = 15658 rows\n"
     ]
    }
   ],
   "source": [
    "# paint the lenses with the previous methods\n",
    "db_prev.paint(lrg_input_cat='../data/LRGo.txt',qso_input_cat='../data/QSOo.txt', synthetic=False)\n",
    "print db_prev.lenses"
   ]
  },
  {
   "cell_type": "code",
   "execution_count": null,
   "metadata": {
    "collapsed": false
   },
   "outputs": [],
   "source": [
    "db.paint(synthetic=True, target='lens')\n",
    "print db.lenses"
   ]
  },
  {
   "cell_type": "code",
   "execution_count": null,
   "metadata": {
    "collapsed": false
   },
   "outputs": [],
   "source": [
    "lens_APMAGI = db_prev.lenses['APMAG_I']\n",
    "lens_i = db.sample['I_SDSS']\n",
    "lens_redshift = db.sample['ZLENS']\n",
    "diff = lens_APMAGI - lens_i\n",
    "\n",
    "plt.subplot(2, 1, 1)\n",
    "plt.scatter(lens_redshift, diff)\n",
    "plt.title('redshift vs diff')\n",
    "plt.ylabel('difference in real I filter mag - calculated I filter mag')\n",
    "plt.xlabel('redshift z')\n",
    "plt.show()\n",
    "\n",
    "plt.subplot(2, 1, 2)\n",
    "\n",
    "plt.scatter(lens_i, diff)\n",
    "plt.title('calculated I filter mag vs diff')\n",
    "plt.ylabel('difference in real I filter mag - calculated I filter mag')\n",
    "plt.xlabel('calculated I filter mag')"
   ]
  }
 ],
 "metadata": {
  "anaconda-cloud": {},
  "kernelspec": {
   "display_name": "Python [conda env:python2]",
   "language": "python",
   "name": "conda-env-python2-py"
  },
  "language_info": {
   "codemirror_mode": {
    "name": "ipython",
    "version": 2
   },
   "file_extension": ".py",
   "mimetype": "text/x-python",
   "name": "python",
   "nbconvert_exporter": "python",
   "pygments_lexer": "ipython2",
   "version": "2.7.12"
  }
 },
 "nbformat": 4,
 "nbformat_minor": 1
}
