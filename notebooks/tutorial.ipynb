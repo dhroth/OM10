{
 "cells": [
  {
   "cell_type": "markdown",
   "metadata": {},
   "source": [
    "# OM10 Tutorial\n",
    "\n",
    "In this notebook we demonstrate the basic functionality of the `om10` package, including how to:\n",
    "\n",
    "* Make some \"standard\" mock lensed quasar samples;\n",
    "* Visualize those samples;\n",
    "* Inspect individual systems.\n",
    "\n",
    "### Requirements\n",
    "\n",
    "You will need to have followed the installation instructions in the [OM10 README](https://github.com/drphilmarshall/OM10/blob/master/README.md)."
   ]
  },
  {
   "cell_type": "code",
   "execution_count": null,
   "metadata": {
    "collapsed": false
   },
   "outputs": [],
   "source": [
    "from __future__ import division, print_function\n",
    "import os, numpy as np\n",
    "\n",
    "import matplotlib\n",
    "matplotlib.use('TkAgg')\n",
    "%matplotlib inline\n",
    "\n",
    "import om10"
   ]
  },
  {
   "cell_type": "code",
   "execution_count": null,
   "metadata": {
    "collapsed": true
   },
   "outputs": [],
   "source": [
    "%load_ext autoreload\n",
    "%autoreload 2"
   ]
  },
  {
   "cell_type": "markdown",
   "metadata": {},
   "source": [
    "## Selecting Mock Lens Samples\n",
    "\n",
    "Let's look at what we might expect from DES and LSST, by making two different selections from the OM10 database."
   ]
  },
  {
   "cell_type": "code",
   "execution_count": null,
   "metadata": {
    "collapsed": true
   },
   "outputs": [],
   "source": [
    "quads, doubles = {}, {}"
   ]
  },
  {
   "cell_type": "code",
   "execution_count": null,
   "metadata": {
    "collapsed": false
   },
   "outputs": [],
   "source": [
    "DES = om10.DB()\n",
    "DES.select_random(maglim=23.6, area=5000.0, IQ=0.9)\n",
    "\n",
    "quads['DES'] = DES.sample[DES.sample['NIMG'] == 4]\n",
    "doubles['DES'] = DES.sample[DES.sample['NIMG'] == 2]\n",
    "\n",
    "print('Predicted number of LSST quads, doubles: ', len(quads['DES']),',',len(doubles['DES']))\n",
    "print('Predicted LSST quad fraction: ', str(int(100.0*len(quads['DES'])/(1.0*len(doubles['DES']))))+'%')"
   ]
  },
  {
   "cell_type": "code",
   "execution_count": null,
   "metadata": {
    "collapsed": false
   },
   "outputs": [],
   "source": [
    "LSST = om10.DB()\n",
    "LSST.select_random(maglim=23.3, area=18000.0, IQ=0.7)\n",
    "\n",
    "quads['LSST'] = LSST.sample[LSST.sample['NIMG'] == 4]\n",
    "doubles['LSST'] = LSST.sample[LSST.sample['NIMG'] == 2]\n",
    "\n",
    "print('Predicted number of LSST quads, doubles: ', len(quads['LSST']),',',len(doubles['LSST']))\n",
    "print('Predicted LSST quad fraction: ', str(int(100.0*len(quads['LSST'])/(1.0*len(doubles['LSST']))))+'%')"
   ]
  },
  {
   "cell_type": "code",
   "execution_count": null,
   "metadata": {
    "collapsed": false
   },
   "outputs": [],
   "source": [
    "fig = om10.plot_sample(doubles['LSST'], color='blue')\n",
    "fig = om10.plot_sample(quads['LSST'], color='red', fig=fig)"
   ]
  },
  {
   "cell_type": "markdown",
   "metadata": {
    "collapsed": true
   },
   "source": [
    "## Visualizing Lens Systems\n",
    "\n",
    "Let's pull out some lenses and see what they look like."
   ]
  },
  {
   "cell_type": "code",
   "execution_count": null,
   "metadata": {
    "collapsed": false
   },
   "outputs": [],
   "source": [
    "db = om10.DB()\n",
    "\n",
    "# Pull out a specific lens and plot it:\n",
    "id = 7176527\n",
    "lens = db.get_lens(id)\n",
    "om10.plot_lens(lens)"
   ]
  },
  {
   "cell_type": "code",
   "execution_count": null,
   "metadata": {
    "collapsed": false
   },
   "outputs": [],
   "source": [
    "# Plot 3 random lenses from a given survey and plot them:\n",
    "db.select_random(maglim=21.4, area=30000.0, IQ=1.0, Nlens=3)\n",
    "for id in db.sample['LENSID']:\n",
    "    lens = db.get_lens(id)\n",
    "    om10.plot_lens(lens, IQ=1.0)"
   ]
  },
  {
   "cell_type": "code",
   "execution_count": null,
   "metadata": {
    "collapsed": true
   },
   "outputs": [],
   "source": []
  }
 ],
 "metadata": {
  "kernelspec": {
   "display_name": "Python 2",
   "language": "python",
   "name": "python2"
  },
  "language_info": {
   "codemirror_mode": {
    "name": "ipython",
    "version": 2
   },
   "file_extension": ".py",
   "mimetype": "text/x-python",
   "name": "python",
   "nbconvert_exporter": "python",
   "pygments_lexer": "ipython2",
   "version": "2.7.12"
  }
 },
 "nbformat": 4,
 "nbformat_minor": 1
}
