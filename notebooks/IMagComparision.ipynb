{
 "cells": [
  {
   "cell_type": "markdown",
   "metadata": {},
   "source": [
    "# Predicting Lens Galaxy Magnitude\n",
    "\n",
    "_Jenny Kim, Phil Marshall_\n",
    "\n",
    "The OM10 mock lensed quasar catalog `qso_mock.fits` contains estimates of the lens galaxy $i$-band magnitudes, based on a simple Faber-Jackson scaling implemented by Phil Marshall. With the `lenspop` library we can compute synthetic magnitudes in any filter. In this notebook we compare the FJ magnitudes, in the `APMAG_I` column of the FITS table, and the `lenspop` synthetic magnitudes. We'll look at magnitude differences as a function of 1) the lenspop i-band magnitude and 2) the lens redshift."
   ]
  },
  {
   "cell_type": "markdown",
   "metadata": {},
   "source": [
    "### Requirements\n",
    "\n",
    "Just `om10` and its dependencies:"
   ]
  },
  {
   "cell_type": "code",
   "execution_count": 1,
   "metadata": {
    "collapsed": true
   },
   "outputs": [],
   "source": [
    "%load_ext autoreload\n",
    "%autoreload 2"
   ]
  },
  {
   "cell_type": "code",
   "execution_count": 4,
   "metadata": {
    "collapsed": false
   },
   "outputs": [],
   "source": [
    "from __future__ import division\n",
    "import om10, os\n",
    "import numpy as np\n",
    "import matplotlib\n",
    "matplotlib.use('Agg')\n",
    "matplotlib.rc('text', usetex=False)\n",
    "import matplotlib.pyplot as plt\n",
    "import corner\n",
    "%matplotlib inline"
   ]
  },
  {
   "cell_type": "markdown",
   "metadata": {},
   "source": [
    "First, let's read in the catalog, select a miniature LSST sample (1% of the survey area), and paint them with `lenspop`. This is still time consuming - a few seconds per lens."
   ]
  },
  {
   "cell_type": "code",
   "execution_count": 15,
   "metadata": {
    "collapsed": false
   },
   "outputs": [
    {
     "name": "stdout",
     "output_type": "stream",
     "text": [
      "OM10: Full db.lenses table contains 15658 systems\n",
      "OM10: Initial db.sample contains 15658 systems\n",
      "OM10: selection yields 7 lenses\n",
      "OM10: computing synthetic magnitudes in the following bands:  ('r_SDSS', 'g_SDSS', 'i_SDSS', 'z_SDSS')\n",
      "......."
     ]
    }
   ],
   "source": [
    "db = om10.DB()\n",
    "db.select_random(maglim=23.3, area=45.0, IQ=0.7)\n",
    "db.paint(synthetic=True, target='lens', verbose=True)"
   ]
  },
  {
   "cell_type": "code",
   "execution_count": 16,
   "metadata": {
    "collapsed": false
   },
   "outputs": [
    {
     "name": "stdout",
     "output_type": "stream",
     "text": [
      " LENSID  FLAGTYPE NIMG ZLENS ...     g_SDSS        i_SDSS        z_SDSS   \n",
      "-------- -------- ---- ----- ... ------------- ------------- -------------\n",
      "21915868        0    4 0.872 ... 23.3428795566 19.3159541535 18.1344509558\n",
      "35939314        0    4 1.084 ... 25.2085005655 20.9044039924 19.5033226519\n",
      "20615625        0    4  0.85 ... 24.3921976745 20.4202840643 19.2814677758\n",
      "53323697        0    4 1.304 ... 23.1592620505 18.9811532057 17.8847821789\n",
      " 2416498        0    2  0.37 ... 22.2113563707 19.6282877614 19.2247078456\n",
      " 4838165        0    2 0.478 ...   20.90160208 18.0820122555 17.5835272042\n",
      "16756321        0    2  0.78 ...  24.439547487 20.6832484012 19.8024871053\n"
     ]
    }
   ],
   "source": [
    "print db.sample"
   ]
  },
  {
   "cell_type": "markdown",
   "metadata": {},
   "source": [
    "Now let's plot these differences, which ideally should scatter around zero with some small dispersion (much less than 1 magnitude)."
   ]
  },
  {
   "cell_type": "code",
   "execution_count": 28,
   "metadata": {
    "collapsed": false
   },
   "outputs": [
    {
     "data": {
      "image/png": "[encoded data removed]",
      "text/plain": [
       "<matplotlib.figure.Figure at 0x10e8202d0>"
      ]
     },
     "metadata": {},
     "output_type": "display_data"
    },
    {
     "data": {
      "text/plain": [
       "<matplotlib.text.Text at 0x10d28b490>"
      ]
     },
     "execution_count": 28,
     "metadata": {},
     "output_type": "execute_result"
    },
    {
     "data": {
      "image/png": "[encoded data removed]",
      "text/plain": [
       "<matplotlib.figure.Figure at 0x10b166c10>"
      ]
     },
     "metadata": {},
     "output_type": "display_data"
    }
   ],
   "source": [
    "lens_APMAGI = db.sample['APMAG_I']\n",
    "lens_i = db.sample['i_SDSS']\n",
    "lens_redshift = db.sample['ZLENS']\n",
    "diff = lens_APMAGI - lens_i\n",
    "\n",
    "plt.subplot(2, 1, 1)\n",
    "plt.scatter(lens_redshift, diff, alpha=0.5)\n",
    "plt.axhline(y=0.0, linestyle='dotted')\n",
    "plt.ylim(-3.0,3.0)\n",
    "plt.title('i-band magnitude difference (APMAG - synthetic)')\n",
    "plt.ylabel('difference (mag)')\n",
    "plt.xlabel('redshift z')\n",
    "plt.show()\n",
    "\n",
    "plt.subplot(2, 1, 2)\n",
    "plt.scatter(lens_i, diff, alpha=0.5)\n",
    "plt.axhline(y=0.0, linestyle='dotted')\n",
    "plt.ylim(-3.0,3.0)\n",
    "plt.title('i-band magnitude difference (APMAG - synthetic)')\n",
    "plt.ylabel('difference (mag)')\n",
    "plt.xlabel('synthetic i-band mag')"
   ]
  },
  {
   "cell_type": "markdown",
   "metadata": {},
   "source": [
    "## Discussion\n",
    "\n",
    "The differences between the old `APMAG_I` and new, synthetic, `lenspop` `i_SDSS` lens galaxy magnitudes seem marked, ranging between 0 and 2 magnitudes (the `lenspop` magnitudes are brighter). Possible reasons for this discrepancy are:\n",
    "\n",
    "* The `APMAG` values are wrong. This seems unlikely, but it would be worth checking against a sample of massive galaxies with known velocity dispersion and i-band magnitude: the SLACS and SL2S lenses for example.\n",
    "\n",
    "* The `lenspop` values are wrong, probably because we are miscalculating something. We shoudl double check our offsets! \n",
    "\n",
    "The comparison with the known lens sample seems like a good next step.\n",
    "\n",
    "We also note that the synthetic magnitude calculation is very slow: $\\sim 1$ second per lens. This could be because the SED is being read in from file each time: some investigation of this is in order.\n"
   ]
  }
 ],
 "metadata": {
  "anaconda-cloud": {},
  "kernelspec": {
   "display_name": "Python 3",
   "language": "python",
   "name": "python3"
  },
  "language_info": {
   "codemirror_mode": {
    "name": "ipython",
    "version": 3
   },
   "file_extension": ".py",
   "mimetype": "text/x-python",
   "name": "python",
   "nbconvert_exporter": "python",
   "pygments_lexer": "ipython3",
   "version": "3.5.1"
  }
 },
 "nbformat": 4,
 "nbformat_minor": 1
}
