{
 "cells": [
  {
   "cell_type": "code",
   "execution_count": 1,
   "metadata": {
    "collapsed": false
   },
   "outputs": [],
   "source": [
    "import warnings\n",
    "warnings.filterwarnings('ignore')\n",
    "%load_ext autoreload\n",
    "%autoreload 2\n",
    "%matplotlib inline "
   ]
  },
  {
   "cell_type": "code",
   "execution_count": 2,
   "metadata": {
    "collapsed": true
   },
   "outputs": [],
   "source": [
    "from __future__ import division\n",
    "import os, numpy as np\n",
    "import corner\n",
    "import om10\n",
    "from om10 import plotting\n",
    "from astropy.table import Table\n",
    "import matplotlib\n",
    "matplotlib.use('TkAgg')\n",
    "matplotlib.rc('text', usetex=False)"
   ]
  },
  {
   "cell_type": "code",
   "execution_count": 3,
   "metadata": {
    "collapsed": false
   },
   "outputs": [
    {
     "name": "stdout",
     "output_type": "stream",
     "text": [
      "OM10: Full db.lenses table contains 15658 systems\n",
      "OM10: Initial db.sample contains 15658 systems\n",
      "OM10: selection yields 200 lenses\n"
     ]
    }
   ],
   "source": [
    "db = om10.DB(catalog='/Users/Jenny/Desktop/om10fork/om10/data/qso_mock.fits')\n",
    "# how to select the quasars?\n",
    "db.select_random(Nlens=200,maglim=20.0)\n",
    "db.paint(synthetic=True, target='lens')"
   ]
  },
  {
   "cell_type": "code",
   "execution_count": 4,
   "metadata": {
    "collapsed": false
   },
   "outputs": [
    {
     "name": "stdout",
     "output_type": "stream",
     "text": [
      "  LENSID  FLAGTYPE NIMG ZLENS ...     i_SDSS        z_SDSS        u_SDSS   \n",
      "--------- -------- ---- ----- ... ------------- ------------- -------------\n",
      " 23342217        0    2 0.896 ... 20.1905030047 18.9670568856 25.9716606555\n",
      " 12405741        0    2  0.69 ... 20.2813152583 19.6284439483 26.5200169644\n",
      " 14151886        0    2 0.728 ... 20.6827777132  19.959986816 26.9104635432\n",
      " 81305043        0    4 1.614 ... 19.4110149483 17.8886783594 22.7049141496\n",
      " 44963886        0    2 1.202 ... 19.3079577271  18.134753268 24.1713546222\n",
      "   527277        0    2 0.214 ... 16.2857973558 16.0062030877 20.3989948025\n",
      "124602652        0    2 2.048 ... 22.6725860747 20.5563017602 24.1907157214\n",
      "  3340258        0    4 0.416 ...  17.450108295 16.9930284741 23.0531467769\n",
      " 91147790        0    2 1.716 ... 20.8402139474 19.1041763929 23.7027489143\n",
      " 11483124        0    2 0.668 ... 17.8882450932 17.2661703518 24.1346000545\n",
      "      ...      ...  ...   ... ...           ...           ...           ...\n",
      " 65356504        0    2 1.442 ... 19.1231189268 17.9651736537 23.2355341502\n",
      "  9124947        0    2  0.61 ... 18.3058977333 17.7389936434 24.5945600059\n",
      "   105881        0    2 0.124 ... 17.5716951081 17.2616371455 21.0771834212\n",
      "  6541441        0    2 0.536 ... 18.2752197385 17.7417439186 24.5339659421\n",
      " 58116788        0    2  1.36 ... 19.0860157849 17.9738723539 23.4815949753\n",
      "  6269563        0    2 0.528 ... 19.6437797989 19.1162128657 25.8966690431\n",
      " 33362244        0    2 1.048 ... 20.5649267547 19.1714731611 25.7566181367\n",
      " 52127475        0    2  1.29 ... 20.5447046639 19.4414459539 25.1513494038\n",
      " 14012112        0    2 0.724 ... 18.8993936329 18.1856427247 25.1293248723\n",
      " 10639332        0    2 0.648 ... 17.4904753598 16.8916023961 23.7497996709\n",
      " 18718263        0    2 0.816 ... 19.9790033321 18.9538575784 26.0232254098\n",
      "Length = 200 rows\n"
     ]
    }
   ],
   "source": [
    "print db.sample"
   ]
  }
 ],
 "metadata": {
  "anaconda-cloud": {},
  "kernelspec": {
   "display_name": "Python [default]",
   "language": "python",
   "name": "python2"
  },
  "language_info": {
   "codemirror_mode": {
    "name": "ipython",
    "version": 2
   },
   "file_extension": ".py",
   "mimetype": "text/x-python",
   "name": "python",
   "nbconvert_exporter": "python",
   "pygments_lexer": "ipython2",
   "version": "2.7.12"
  }
 },
 "nbformat": 4,
 "nbformat_minor": 1
}
