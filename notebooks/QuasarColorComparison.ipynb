{
 "cells": [
  {
   "cell_type": "raw",
   "metadata": {},
   "source": [
    "This is a corner plot for the quasars whose magnitudes were calculated using the synthetic method. QSO samples were drawn from the statistics course at KIPAC."
   ]
  },
  {
   "cell_type": "code",
   "execution_count": 1,
   "metadata": {
    "collapsed": false
   },
   "outputs": [
    {
     "name": "stderr",
     "output_type": "stream",
     "text": [
      "/Users/Jenny/anaconda/envs/python2/lib/python2.7/site-packages/matplotlib/font_manager.py:273: UserWarning: Matplotlib is building the font cache using fc-list. This may take a moment.\n",
      "  warnings.warn('Matplotlib is building the font cache using fc-list. This may take a moment.')\n"
     ]
    },
    {
     "name": "stdout",
     "output_type": "stream",
     "text": [
      "Populating the interactive namespace from numpy and matplotlib\n"
     ]
    },
    {
     "name": "stderr",
     "output_type": "stream",
     "text": [
      "/Users/Jenny/anaconda/envs/python2/lib/python2.7/site-packages/matplotlib/__init__.py:1357: UserWarning:  This call to matplotlib.use() has no effect\n",
      "because the backend has already been chosen;\n",
      "matplotlib.use() must be called *before* pylab, matplotlib.pyplot,\n",
      "or matplotlib.backends is imported for the first time.\n",
      "\n",
      "  warnings.warn(_use_error_msg)\n"
     ]
    }
   ],
   "source": [
    "import pandas as pd\n",
    "import seaborn as sns\n",
    "%pylab inline\n",
    "%matplotlib inline\n",
    "import matplotlib.pyplot as plt\n",
    "import copy\n",
    "import color_demo\n",
    "pd.set_option('display.max_columns', None)\n",
    "sns.set()\n",
    "import random\n",
    "import corner\n",
    "import numpy as np\n",
    "from om10 import plotting\n",
    "from astropy.table import Table"
   ]
  },
  {
   "cell_type": "code",
   "execution_count": 2,
   "metadata": {
    "collapsed": false
   },
   "outputs": [],
   "source": [
    "# Read the data\n",
    "pd.set_option('display.max_columns', None)\n",
    "qsos = pd.read_csv(\"../../StatisticalMethods/examples/SDSScatalog/data/qso10000.csv\",index_col=0)\n",
    "# Clean out extreme colors and bad magnitudes:\n",
    "qsos = qsos[(qsos[\"dered_r\"] > -9999) & (qsos[\"g_r_color\"] > -10) & (qsos[\"g_r_color\"] < 10)]\n",
    "# Change to Numpy Array because it is easier to manipulate\n",
    "qso = qsos.as_matrix()"
   ]
  },
  {
   "cell_type": "code",
   "execution_count": 4,
   "metadata": {
    "collapsed": false
   },
   "outputs": [],
   "source": [
    "# color the quasars with the method written\n",
    "z=[]\n",
    "i=[]\n",
    "gr=[]\n",
    "ri=[]\n",
    "iz=[]\n",
    "for number in range(150):\n",
    "    # key : ra dec dered_u dered_g dered_r dered_i dered_z mag_u mag_g mag_r \n",
    "    # mag_i mag_z spec_z u_g_color g_r_color r_i color i_z carlar ...\n",
    "    rand = random.randint(0, len(qso))\n",
    "    redshift = qso[rand][12]\n",
    "    r_calc, g_calc, i_calc, z_calc = color_demo.CalculateMagnitude('../data', 'source', redshift)\n",
    "    g_r = g_calc-r_calc\n",
    "    r_i = r_calc-i_calc\n",
    "    i_z = i_calc-z_calc\n",
    "    z.append(redshift)\n",
    "    i.append(i_calc)\n",
    "    gr.append(g_r)\n",
    "    ri.append(r_i)\n",
    "    iz.append(i_z)"
   ]
  },
  {
   "cell_type": "code",
   "execution_count": null,
   "metadata": {
    "collapsed": true
   },
   "outputs": [],
   "source": [
    "# Initialize everything to make a cornerplot\n",
    "# Rather than changing db.py to enable reading text files I just did in Jupyter\n",
    "\n",
    "axis_labels = {}\n",
    "axis_labels['ZLENS'] = '$redshift$'\n",
    "axis_labels['MAGI'] = '$I$'\n",
    "axis_labels['GR'] = '$G-R$'\n",
    "axis_labels['RI'] = '$R-I$'\n",
    "axis_labels['IZ'] = '$I-Z$'"
   ]
  },
  {
   "cell_type": "code",
   "execution_count": null,
   "metadata": {
    "collapsed": false
   },
   "outputs": [],
   "source": [
    "matplotlib.rc('text', usetex=False)\n",
    "# plot the above colored lens\n",
    "data = Table({'MAGI': i, 'ZLENS': z, 'GR': gr, 'RI': ri, 'IZ': iz}, names=['MAGI', 'ZLENS', 'GR', 'RI', 'IZ'])\n",
    "features, labels = plotting.extract_features(data, ('MAGI','ZLENS', 'GR', 'RI', 'IZ'))\n",
    "fig1 = corner.corner(features, labels=labels, color='blue', smooth=1.0)"
   ]
  },
  {
   "cell_type": "code",
   "execution_count": null,
   "metadata": {
    "collapsed": true
   },
   "outputs": [],
   "source": [
    "z = qsos[\"spec_z\"].as_matrix()\n",
    "i = qsos[\"mag_i\"].as_matrix()\n",
    "gr = qsos[\"g_r_color\"].as_matrix()\n",
    "ri = qsos[\"r_i_color\"].as_matrix()\n",
    "iz = qsos[\"i_z_color\"].as_matrix()"
   ]
  },
  {
   "cell_type": "code",
   "execution_count": null,
   "metadata": {
    "collapsed": false
   },
   "outputs": [],
   "source": [
    "matplotlib.rc('text', usetex=False)\n",
    "# plot the above colored lens\n",
    "data = Table({'MAGI': i, 'ZLENS': z, 'GR': gr, 'RI': ri, 'IZ': iz}, names=['MAGI', 'ZLENS', 'GR', 'RI', 'IZ'])\n",
    "features, label = plotting.extract_features(data, ('MAGI','ZLENS', 'GR', 'RI', 'IZ'))\n",
    "corner.corner(features, labels=labels, color='red', smooth=1.0, fig=fig1)"
   ]
  }
 ],
 "metadata": {
  "anaconda-cloud": {},
  "kernelspec": {
   "display_name": "Python [conda env:python2]",
   "language": "python",
   "name": "conda-env-python2-py"
  }
 },
 "nbformat": 4,
 "nbformat_minor": 1
}
