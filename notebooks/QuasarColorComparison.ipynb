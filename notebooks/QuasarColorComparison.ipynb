{
 "cells": [
  {
   "cell_type": "markdown",
   "metadata": {},
   "source": [
    "### Comparing the Color of Quasars\n",
    "\n",
    "Jenny Kim, Phil Marshall\n",
    "\n",
    "[This file](https://github.com/KIPAC/StatisticalMethods/blob/master/examples/SDSScatalog/data/qso10000.csv) contains SDSS quasar magnitudes and redshifts. With the lenspop library, we could compute the synthetic magnitudes in G, R, I, and Z filter of the quasar samples in the file. In this notebook, we will look at the differences in the distributions of the 1) redshift, 2) $i$-band magnitude, 3) $G-R$ magnitude, 4) $R-I$ magnitude, and 5) $I-Z$ magnitude between the known SDSS values and the colored magnitudes for each quasar sample."
   ]
  },
  {
   "cell_type": "markdown",
   "metadata": {},
   "source": [
    "### Requirements\n",
    "\n",
    "SDSS data(can be downloaded [here](https://github.com/KIPAC/StatisticalMethods/blob/master/examples/SDSScatalog/data/qso10000.csv)), packages that help reading and writing the data, [color_demo](https://github.com/jennykim1016/OM10/blob/master/notebooks/color_demo.py) to synthetically color the quasars."
   ]
  },
  {
   "cell_type": "code",
   "execution_count": 1,
   "metadata": {
    "collapsed": false
   },
   "outputs": [
    {
     "name": "stdout",
     "output_type": "stream",
     "text": [
      "Populating the interactive namespace from numpy and matplotlib\n"
     ]
    }
   ],
   "source": [
    "import warnings\n",
    "warnings.filterwarnings('ignore')\n",
    "# to interactively display the diagrams\n",
    "%pylab inline\n",
    "%matplotlib inline"
   ]
  },
  {
   "cell_type": "code",
   "execution_count": 2,
   "metadata": {
    "collapsed": false
   },
   "outputs": [],
   "source": [
    "import seaborn as sns\n",
    "import matplotlib.pyplot as plt\n",
    "import copy\n",
    "import color_demo\n",
    "import pandas as pd\n",
    "import corner\n",
    "from astropy.table import Table\n",
    "import numpy as np\n",
    "from om10 import plotting\n",
    "sns.set()\n",
    "pd.set_option('display.max_columns', None)"
   ]
  },
  {
   "cell_type": "markdown",
   "metadata": {},
   "source": [
    "First, let's read in the catalog through pd(panda) and remove any outliers."
   ]
  },
  {
   "cell_type": "code",
   "execution_count": 3,
   "metadata": {
    "collapsed": false
   },
   "outputs": [],
   "source": [
    "# Read the data\n",
    "pd.set_option('display.max_columns', None)\n",
    "qsos = pd.read_csv(\"../../StatisticalMethods/examples/SDSScatalog/data/qso10000.csv\",index_col=0)\n",
    "# Clean out extreme colors and bad magnitudes:\n",
    "qsos = qsos[(qsos[\"dered_r\"] > -9999) & (qsos[\"g_r_color\"] > -10) & (qsos[\"g_r_color\"] < 10) & (qsos[\"mag_i\"]<23.6)]\n",
    "# Change to Numpy Array because it is easier to manipulate\n",
    "qso = qsos.as_matrix()"
   ]
  },
  {
   "cell_type": "markdown",
   "metadata": {},
   "source": [
    "We initialize the array for redshift, $i$-magnitude, $G-R$ magnitude, $R-I$ magnitude, and $I-Z$ magnitude. Then, we select 50 random numbers from 0 to length of qso array, painting them with the color_demo file which extends lenspop library to compute the synthetic magnitude."
   ]
  },
  {
   "cell_type": "code",
   "execution_count": 4,
   "metadata": {
    "collapsed": false
   },
   "outputs": [],
   "source": [
    "# color the quasars with the method written\n",
    "z=[]\n",
    "i=[]\n",
    "gr=[]\n",
    "ri=[]\n",
    "iz=[]\n",
    "# import the package 'random' to generate random numbers\n",
    "import random\n",
    "for number in range(50):\n",
    "    # key : ra dec dered_u dered_g dered_r dered_i dered_z mag_u mag_g mag_r mag_i mag_z spec_z u_g_color g_r_color r_i color i_z carlar ...\n",
    "    rand = random.randint(0, len(qso)-1)\n",
    "    redshift = qso[rand][12]\n",
    "    r_calc, g_calc, i_calc, z_calc = color_demo.CalculateMagnitude('../data/', 'source', redshift)\n",
    "    g_r = g_calc-r_calc\n",
    "    r_i = r_calc-i_calc\n",
    "    i_z = i_calc-z_calc\n",
    "    z.append(redshift)\n",
    "    i.append(i_calc)\n",
    "    gr.append(g_r)\n",
    "    ri.append(r_i)\n",
    "    iz.append(i_z)"
   ]
  },
  {
   "cell_type": "markdown",
   "metadata": {},
   "source": [
    "Draw the cornerplot with the arguments in axis_labels and save it first so that we could overlap it with the second cornerplot. Two cornerplot seems a lot, but corner.corner automatically displays the cornerplot in jupyter. However, using %%capture stops jupyter displaying the cornerplot."
   ]
  },
  {
   "cell_type": "code",
   "execution_count": 5,
   "metadata": {
    "collapsed": false
   },
   "outputs": [],
   "source": [
    "%%capture\n",
    "#om10 uses usetex=True, which sometimes generates error when using matplotlib. To be safe, let's disable usetex.\n",
    "matplotlib.rc('text', usetex=False)\n",
    "data = Table({'MAGI_Q': i, 'ZSRC': z, 'GR': gr, 'RI': ri, 'IZ': iz}, names=['MAGI_Q', 'ZSRC', 'GR', 'RI', 'IZ'])\n",
    "axis_labels = {}\n",
    "axis_labels['ZSRC'] = '$redshift$'\n",
    "axis_labels['MAGI_Q'] = '$i$'\n",
    "axis_labels['GR'] = '$g-r$'\n",
    "axis_labels['RI'] = '$r-i$'\n",
    "axis_labels['IZ'] = '$i-z$'\n",
    "features, labels = plotting.extract_features(data, ('MAGI_Q','ZSRC', 'GR', 'RI', 'IZ'))\n",
    "#fig1 saves the cornerplot of colored quasars.\n",
    "fig1 = corner.corner(features, labels=labels, color='blue', smooth=1.0)"
   ]
  },
  {
   "cell_type": "markdown",
   "metadata": {},
   "source": [
    "Get the original SDSS data of $i$-magnitudes, redshifts, $G-R$ magnitudes, $R-I$ magnitudes, and $I-Z$ magnitudes as an array. Remove outliers based on the redshift and the $i$-magnitude. "
   ]
  },
  {
   "cell_type": "code",
   "execution_count": 14,
   "metadata": {
    "collapsed": false
   },
   "outputs": [],
   "source": [
    "i = qsos[\"mag_i\"].as_matrix()\n",
    "z = qsos[\"spec_z\"].as_matrix()\n",
    "gr = qsos[\"g_r_color\"].as_matrix()\n",
    "ri = qsos[\"r_i_color\"].as_matrix()\n",
    "iz = qsos[\"i_z_color\"].as_matrix()\n",
    "\n",
    "i = i[(qsos[\"mag_i\"].as_matrix()<23.6) & (qsos[\"spec_z\"].as_matrix()<2.5)]\n",
    "z = z[(qsos[\"mag_i\"].as_matrix()<23.6) & (qsos[\"spec_z\"].as_matrix()<2.5)]\n",
    "gr = gr[(qsos[\"mag_i\"].as_matrix()<23.6) & (qsos[\"spec_z\"].as_matrix()<2.5)]\n",
    "ri = ri[(qsos[\"mag_i\"].as_matrix()<23.6) & (qsos[\"spec_z\"].as_matrix()<2.5)]\n",
    "iz = iz[(qsos[\"mag_i\"].as_matrix()<23.6) & (qsos[\"spec_z\"].as_matrix()<2.5)]"
   ]
  },
  {
   "cell_type": "markdown",
   "metadata": {},
   "source": [
    "Then, we will overlap the synthetically colored samples with the original data. Ideally, the distributions of the data should be similar, and the blue contours and the red contours should have significant overlap."
   ]
  },
  {
   "cell_type": "code",
   "execution_count": 1,
   "metadata": {
    "collapsed": false,
    "scrolled": true
   },
   "outputs": [
    {
     "ename": "NameError",
     "evalue": "name 'matplotlib' is not defined",
     "output_type": "error",
     "traceback": [
      "\u001b[0;31m---------------------------------------------------------------------------\u001b[0m",
      "\u001b[0;31mNameError\u001b[0m                                 Traceback (most recent call last)",
      "\u001b[0;32m<ipython-input-1-c7b41cc2317a>\u001b[0m in \u001b[0;36m<module>\u001b[0;34m()\u001b[0m\n\u001b[0;32m----> 1\u001b[0;31m \u001b[0mmatplotlib\u001b[0m\u001b[0;34m.\u001b[0m\u001b[0mrc\u001b[0m\u001b[0;34m(\u001b[0m\u001b[0;34m'text'\u001b[0m\u001b[0;34m,\u001b[0m \u001b[0musetex\u001b[0m\u001b[0;34m=\u001b[0m\u001b[0mFalse\u001b[0m\u001b[0;34m)\u001b[0m\u001b[0;34m\u001b[0m\u001b[0m\n\u001b[0m\u001b[1;32m      2\u001b[0m \u001b[0;31m# plot the above colored lens\u001b[0m\u001b[0;34m\u001b[0m\u001b[0;34m\u001b[0m\u001b[0m\n\u001b[1;32m      3\u001b[0m \u001b[0mdata\u001b[0m \u001b[0;34m=\u001b[0m \u001b[0mTable\u001b[0m\u001b[0;34m(\u001b[0m\u001b[0;34m{\u001b[0m\u001b[0;34m'MAGI_Q'\u001b[0m\u001b[0;34m:\u001b[0m \u001b[0mi\u001b[0m\u001b[0;34m,\u001b[0m \u001b[0;34m'ZSRC'\u001b[0m\u001b[0;34m:\u001b[0m \u001b[0mz\u001b[0m\u001b[0;34m,\u001b[0m \u001b[0;34m'GR'\u001b[0m\u001b[0;34m:\u001b[0m \u001b[0mgr\u001b[0m\u001b[0;34m,\u001b[0m \u001b[0;34m'RI'\u001b[0m\u001b[0;34m:\u001b[0m \u001b[0mri\u001b[0m\u001b[0;34m,\u001b[0m \u001b[0;34m'IZ'\u001b[0m\u001b[0;34m:\u001b[0m \u001b[0miz\u001b[0m\u001b[0;34m}\u001b[0m\u001b[0;34m,\u001b[0m \u001b[0mnames\u001b[0m\u001b[0;34m=\u001b[0m\u001b[0;34m[\u001b[0m\u001b[0;34m'MAGI_Q'\u001b[0m\u001b[0;34m,\u001b[0m \u001b[0;34m'ZSRC'\u001b[0m\u001b[0;34m,\u001b[0m \u001b[0;34m'GR'\u001b[0m\u001b[0;34m,\u001b[0m \u001b[0;34m'RI'\u001b[0m\u001b[0;34m,\u001b[0m \u001b[0;34m'IZ'\u001b[0m\u001b[0;34m]\u001b[0m\u001b[0;34m)\u001b[0m\u001b[0;34m\u001b[0m\u001b[0m\n\u001b[1;32m      4\u001b[0m \u001b[0mfeatures\u001b[0m\u001b[0;34m,\u001b[0m \u001b[0mlabels\u001b[0m \u001b[0;34m=\u001b[0m \u001b[0mplotting\u001b[0m\u001b[0;34m.\u001b[0m\u001b[0mextract_features\u001b[0m\u001b[0;34m(\u001b[0m\u001b[0mdata\u001b[0m\u001b[0;34m,\u001b[0m \u001b[0;34m(\u001b[0m\u001b[0;34m'MAGI_Q'\u001b[0m\u001b[0;34m,\u001b[0m\u001b[0;34m'ZSRC'\u001b[0m\u001b[0;34m,\u001b[0m \u001b[0;34m'GR'\u001b[0m\u001b[0;34m,\u001b[0m \u001b[0;34m'RI'\u001b[0m\u001b[0;34m,\u001b[0m \u001b[0;34m'IZ'\u001b[0m\u001b[0;34m)\u001b[0m\u001b[0;34m)\u001b[0m\u001b[0;34m\u001b[0m\u001b[0m\n\u001b[1;32m      5\u001b[0m \u001b[0mcorner\u001b[0m\u001b[0;34m.\u001b[0m\u001b[0mcorner\u001b[0m\u001b[0;34m(\u001b[0m\u001b[0mfeatures\u001b[0m\u001b[0;34m,\u001b[0m \u001b[0mlabels\u001b[0m\u001b[0;34m=\u001b[0m\u001b[0mlabels\u001b[0m\u001b[0;34m,\u001b[0m \u001b[0mcolor\u001b[0m\u001b[0;34m=\u001b[0m\u001b[0;34m'red'\u001b[0m\u001b[0;34m,\u001b[0m \u001b[0msmooth\u001b[0m\u001b[0;34m=\u001b[0m\u001b[0;36m1.0\u001b[0m\u001b[0;34m,\u001b[0m \u001b[0mfig\u001b[0m\u001b[0;34m=\u001b[0m\u001b[0mfig1\u001b[0m\u001b[0;34m)\u001b[0m\u001b[0;34m\u001b[0m\u001b[0m\n",
      "\u001b[0;31mNameError\u001b[0m: name 'matplotlib' is not defined"
     ]
    }
   ],
   "source": [
    "matplotlib.rc('text', usetex=False)\n",
    "# plot the above colored lens\n",
    "data = Table({'MAGI_Q': i, 'ZSRC': z, 'GR': gr, 'RI': ri, 'IZ': iz}, names=['MAGI_Q', 'ZSRC', 'GR', 'RI', 'IZ'])\n",
    "features, labels = plotting.extract_features(data, ('MAGI_Q','ZSRC', 'GR', 'RI', 'IZ'))\n",
    "corner.corner(features, labels=labels, color='red', smooth=1.0, fig=fig1)"
   ]
  },
  {
   "cell_type": "markdown",
   "metadata": {
    "collapsed": true
   },
   "source": [
    "### Discussion\n",
    "\n",
    "Red(the real data) seems to have wider distribution than the blue(synthetically colored data). The cornerplot suggests that the red(the real data) and the blue(synthetically colored data) mostly have similar average values. Red data seems to have wider distribution than the blue one, probably because of the sample size. The sample data size for the blue ones were only 50, whereas for the red ones, it was 10000.\n",
    "\n",
    "There were some discrepancies with the i-magnitude column. However, the color index(i.e. G-R, R-I, and I-Z) values matched pretty well with the known values. This might suggest that there is some issue with the apparent magnitude calibration.\n",
    "\n",
    "It might be helpful to more than 50 data and see how it looks like. However, as pointed in the IMagComparison notebook, it takes $\\sim 1$ second per lens to calculate the magnitude. It might be better to first work on improving the efficiency of the color and then run the code again."
   ]
  }
 ],
 "metadata": {
  "anaconda-cloud": {},
  "kernelspec": {
   "display_name": "Python 3",
   "language": "python",
   "name": "python3"
  },
  "language_info": {
   "codemirror_mode": {
    "name": "ipython",
    "version": 3
   },
   "file_extension": ".py",
   "mimetype": "text/x-python",
   "name": "python",
   "nbconvert_exporter": "python",
   "pygments_lexer": "ipython3",
   "version": "3.5.1"
  }
 },
 "nbformat": 4,
 "nbformat_minor": 1
}
