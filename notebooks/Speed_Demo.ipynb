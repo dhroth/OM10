{
 "cells": [
  {
   "cell_type": "code",
   "execution_count": 9,
   "metadata": {
    "collapsed": false
   },
   "outputs": [
    {
     "name": "stdout",
     "output_type": "stream",
     "text": [
      "The autoreload extension is already loaded. To reload it, use:\n",
      "  %reload_ext autoreload\n"
     ]
    }
   ],
   "source": [
    "import warnings\n",
    "warnings.filterwarnings('ignore')\n",
    "%load_ext autoreload\n",
    "%autoreload 2\n",
    "%matplotlib inline "
   ]
  },
  {
   "cell_type": "code",
   "execution_count": 10,
   "metadata": {
    "collapsed": true
   },
   "outputs": [],
   "source": [
    "from __future__ import division\n",
    "import os, numpy as np\n",
    "import corner\n",
    "import om10\n",
    "from om10 import plotting\n",
    "from astropy.table import Table\n",
    "import matplotlib\n",
    "matplotlib.use('TkAgg')\n",
    "matplotlib.rc('text', usetex=False)"
   ]
  },
  {
   "cell_type": "code",
   "execution_count": 11,
   "metadata": {
    "collapsed": false
   },
   "outputs": [
    {
     "name": "stdout",
     "output_type": "stream",
     "text": [
      "OM10: Full db.lenses table contains 15658 systems\n",
      "OM10: Initial db.sample contains 15658 systems\n",
      "OM10: selection yields 250 lenses\n"
     ]
    }
   ],
   "source": [
    "db = om10.DB(catalog='/Users/Jenny/Desktop/om10fork/om10/data/qso_mock.fits')\n",
    "db.select_random(Nlens=250,maglim=20.0)\n",
    "db.paint(synthetic=True, target='lens')"
   ]
  },
  {
   "cell_type": "code",
   "execution_count": 12,
   "metadata": {
    "collapsed": false
   },
   "outputs": [
    {
     "name": "stdout",
     "output_type": "stream",
     "text": [
      "  LENSID  FLAGTYPE NIMG ZLENS ...     i_SDSS        z_SDSS        u_SDSS   \n",
      "--------- -------- ---- ----- ... ------------- ------------- -------------\n",
      "  5749735        0    4  0.51 ... 16.5315761515 16.0124863972 22.7460789537\n",
      " 24935492        0    4 0.922 ... 20.3394198457 19.1212922385 26.0648430489\n",
      " 11134730        0    2  0.66 ...  18.457844553 17.8454915245 24.7093207047\n",
      " 18695548        0    2 0.816 ... 20.3040059242 19.2788601706  26.348228002\n",
      "  3518025        0    4 0.424 ... 16.9886562515 16.5233415024 22.6397526255\n",
      " 19176499        0    2 0.824 ... 18.2615685415 17.2071209575 24.2809661748\n",
      " 14692389        0    2 0.738 ... 17.3120421422 16.5618817551  23.529713528\n",
      " 20389922        0    2 0.846 ... 20.0304081926 18.9050933213 25.9794032892\n",
      "116407285        0    2 1.968 ... 21.8249890425 19.6535360573 23.5852404804\n",
      " 23215486        0    4 0.894 ... 20.2019416705 18.9819728907 25.9907053869\n",
      "      ...      ...  ...   ... ...           ...           ...           ...\n",
      "  2088722        0    2  0.35 ... 17.1803557962 16.8077513789 22.4614960988\n",
      " 10336260        0    2 0.642 ... 20.7436002363 20.1514855807 27.0079754141\n",
      " 10796864        0    2 0.652 ... 18.8962776771 18.2934484262 25.1532730393\n",
      "  7958830        0    2 0.578 ... 17.9724857551  17.418940619 24.2629369517\n",
      " 30999753        0    2 1.014 ... 19.5247751131 18.1908905773 24.8697455516\n",
      " 63214627        0    4 1.418 ... 18.6647176431 17.5209572954 22.8711511727\n",
      " 11376380        0    2 0.666 ... 19.4662971395 18.8469596624 25.7142223324\n",
      "  5315326        0    4 0.496 ... 19.7714557087 19.2595047094 25.9336723874\n",
      "  9653288        0    2 0.624 ... 19.2850396209  18.709608362 25.5639876365\n",
      "  3042348        0    4 0.402 ... 18.3145019915 17.8736821047  23.843714518\n",
      " 18701280        0    2 0.816 ...  20.341463817 19.3163180633 26.3856858947\n",
      "Length = 250 rows\n"
     ]
    }
   ],
   "source": [
    "print db.sample"
   ]
  }
 ],
 "metadata": {
  "anaconda-cloud": {},
  "kernelspec": {
   "display_name": "Python [default]",
   "language": "python",
   "name": "python2"
  },
  "language_info": {
   "codemirror_mode": {
    "name": "ipython",
    "version": 2
   },
   "file_extension": ".py",
   "mimetype": "text/x-python",
   "name": "python",
   "nbconvert_exporter": "python",
   "pygments_lexer": "ipython2",
   "version": "2.7.12"
  }
 },
 "nbformat": 4,
 "nbformat_minor": 1
}
