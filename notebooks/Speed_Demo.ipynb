{
 "cells": [
  {
   "cell_type": "code",
   "execution_count": 5,
   "metadata": {
    "collapsed": false
   },
   "outputs": [
    {
     "name": "stdout",
     "output_type": "stream",
     "text": [
      "The autoreload extension is already loaded. To reload it, use:\n",
      "  %reload_ext autoreload\n"
     ]
    }
   ],
   "source": [
    "import warnings\n",
    "warnings.filterwarnings('ignore')\n",
    "%load_ext autoreload\n",
    "%autoreload 2\n",
    "%matplotlib inline "
   ]
  },
  {
   "cell_type": "code",
   "execution_count": 6,
   "metadata": {
    "collapsed": true
   },
   "outputs": [],
   "source": [
    "from __future__ import division\n",
    "import os, numpy as np\n",
    "import corner\n",
    "import om10\n",
    "from om10 import plotting\n",
    "from astropy.table import Table\n",
    "import matplotlib\n",
    "matplotlib.use('TkAgg')\n",
    "matplotlib.rc('text', usetex=False)"
   ]
  },
  {
   "cell_type": "code",
   "execution_count": 7,
   "metadata": {
    "collapsed": false
   },
   "outputs": [
    {
     "name": "stdout",
     "output_type": "stream",
     "text": [
      "OM10: Full db.lenses table contains 15658 systems\n",
      "OM10: Initial db.sample contains 15658 systems\n",
      "OM10: selection yields 2000 lenses\n",
      "OM10: Warning: too few lenses in catalog, returning 890 instead\n"
     ]
    }
   ],
   "source": [
    "db = om10.DB(catalog='/Users/Jenny/Desktop/om10fork/om10/data/qso_mock.fits')\n",
    "db.select_random(Nlens=2000,maglim=20.0)\n",
    "db.paint(synthetic=True, target='lens')"
   ]
  },
  {
   "cell_type": "code",
   "execution_count": 8,
   "metadata": {
    "collapsed": false
   },
   "outputs": [
    {
     "name": "stdout",
     "output_type": "stream",
     "text": [
      " LENSID  FLAGTYPE NIMG ZLENS ...     i_SDSS        z_SDSS        u_SDSS   \n",
      "-------- -------- ---- ----- ... ------------- ------------- -------------\n",
      " 4175695        0    2 0.452 ... 17.1824840207 16.6939727912 23.0503777949\n",
      "15368137        0    2 0.752 ... 19.6875441349 18.8949842864 25.8836148207\n",
      "  182527        0    4 0.148 ... 15.6405883916 15.3443448059 19.2815478859\n",
      "49769353        0    4 1.262 ... 21.1774104872 20.0656345296 25.8693090001\n",
      "42421613        0    2  1.17 ... 20.7171163377 19.4840923228 25.6529911342\n",
      "20389922        0    2 0.846 ... 20.0304081926 18.9050933213 25.9794032892\n",
      "12137161        0    2 0.684 ... 20.1688856242 19.5254631162 26.4093955617\n",
      "11823588        0    2 0.676 ... 19.0316370753 18.4006721466 25.2758413605\n",
      "  465567        0    2 0.206 ... 18.1889305414 17.9072761785 22.2398701827\n",
      " 1276821        0    2 0.294 ... 18.9619265769 18.6466740711 23.7340241174\n",
      "     ...      ...  ...   ... ...           ...           ...           ...\n",
      " 5749735        0    4  0.51 ... 16.5315761515 16.0124863972 22.7460789537\n",
      "23600951        0    2   0.9 ... 19.7023324889 18.4770671784 25.4732456958\n",
      "15282628        0    2  0.75 ... 18.9396965539 18.1531186672 25.1389071054\n",
      "38315072        0    2 1.116 ... 20.4793436387 19.1510850916  25.524926647\n",
      "29197513        0    2 0.988 ... 20.9916147125 19.7177253162 26.4695235078\n",
      "66754519        0    4 1.458 ... 20.8827481874 19.7092346482 24.9209070348\n",
      "11125263        0    4  0.66 ... 19.4007580642 18.7884050358 25.6522342159\n",
      " 1290240        0    2 0.294 ... 16.8516510534 16.5363985475 21.6237485939\n",
      "29111744        0    2 0.986 ...  18.726707012  17.456660331 24.2144994686\n",
      " 5979441        0    2 0.518 ...  18.009466403 17.4882356426 24.2483217088\n",
      " 3854040        0    2  0.44 ... 20.5628829252 20.0823286884 26.3283166933\n",
      "Length = 890 rows\n"
     ]
    }
   ],
   "source": [
    "print db.sample"
   ]
  }
 ],
 "metadata": {
  "anaconda-cloud": {},
  "kernelspec": {
   "display_name": "Python [default]",
   "language": "python",
   "name": "python2"
  },
  "language_info": {
   "codemirror_mode": {
    "name": "ipython",
    "version": 2
   },
   "file_extension": ".py",
   "mimetype": "text/x-python",
   "name": "python",
   "nbconvert_exporter": "python",
   "pygments_lexer": "ipython2",
   "version": "2.7.12"
  }
 },
 "nbformat": 4,
 "nbformat_minor": 1
}
