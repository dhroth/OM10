{
 "cells": [
  {
   "cell_type": "code",
   "execution_count": 5,
   "metadata": {
    "collapsed": false
   },
   "outputs": [
    {
     "name": "stdout",
     "output_type": "stream",
     "text": [
      "The autoreload extension is already loaded. To reload it, use:\n",
      "  %reload_ext autoreload\n"
     ]
    },
    {
     "name": "stderr",
     "output_type": "stream",
     "text": [
      "/Users/Jenny/anaconda/envs/python2/lib/python2.7/site-packages/matplotlib/__init__.py:1357: UserWarning:  This call to matplotlib.use() has no effect\n",
      "because the backend has already been chosen;\n",
      "matplotlib.use() must be called *before* pylab, matplotlib.pyplot,\n",
      "or matplotlib.backends is imported for the first time.\n",
      "\n",
      "  warnings.warn(_use_error_msg)\n"
     ]
    }
   ],
   "source": [
    "#%matplotlib inline\n",
    "%load_ext autoreload\n",
    "%autoreload 2\n",
    "\n",
    "\n",
    "from __future__ import division\n",
    "import os, numpy as np\n",
    "\n",
    "import matplotlib\n",
    "matplotlib.use('TkAgg')\n",
    "# I changed plotting.py - change to numpy\n",
    "# om10 changed\n",
    "import om10"
   ]
  },
  {
   "cell_type": "code",
   "execution_count": 6,
   "metadata": {
    "collapsed": false,
    "scrolled": true
   },
   "outputs": [
    {
     "name": "stdout",
     "output_type": "stream",
     "text": [
      "  LENSID  FLAGTYPE NIMG ZLENS VELDISP  ... SIGCRIT  DSLUM  L_I REFF REFF_T\n",
      "--------- -------- ---- ----- -------- ... ------- ------- --- ---- ------\n",
      "    14428        0    2 0.062 264.2409 ...     0.0 35956.6 0.0  0.0    0.0\n",
      "    21703        0    2 0.072 165.1962 ...     0.0  8193.9 0.0  0.0    0.0\n",
      "    31711        0    2 0.082 155.9553 ...     0.0 35956.6 0.0  0.0    0.0\n",
      " 45261779        0    4 1.206 193.1968 ...     0.0 25319.5 0.0  0.0    0.0\n",
      " 45585755        0    2  1.21  197.697 ...     0.0 25217.1 0.0  0.0    0.0\n",
      " 45599247        0    4  1.21  217.771 ...     0.0 26546.6 0.0  0.0    0.0\n",
      " 29630335        0    2 0.994 220.2926 ...     0.0 36702.6 0.0  0.0    0.0\n",
      " 29679486        0    4 0.996 127.3503 ...     0.0 34259.3 0.0  0.0    0.0\n",
      " 29834791        0    2 0.998 142.8894 ...     0.0 39164.4 0.0  0.0    0.0\n",
      " 89787343        0    2 1.702 269.1535 ...     0.0 36169.7 0.0  0.0    0.0\n",
      "      ...      ...  ...   ...      ... ...     ...     ... ...  ...    ...\n",
      "  1458378        0    2 0.308 172.9816 ...     0.0 20693.1 0.0  0.0    0.0\n",
      "  1467390        0    2 0.308 276.6942 ...     0.0 10909.2 0.0  0.0    0.0\n",
      "  4414868        0    2 0.462 176.1976 ...     0.0 19606.1 0.0  0.0    0.0\n",
      "  4479879        0    4 0.464 241.5461 ...     0.0 30581.3 0.0  0.0    0.0\n",
      "  4523945        0    2 0.466 198.6095 ...     0.0 12086.7 0.0  0.0    0.0\n",
      "  9364183        0    2 0.616 262.4219 ...     0.0 17943.3 0.0  0.0    0.0\n",
      "  9416288        0    2 0.618 173.3804 ...     0.0 19999.9 0.0  0.0    0.0\n",
      "  9441973        0    4 0.618 272.8978 ...     0.0 21289.3 0.0  0.0    0.0\n",
      "168229053        0    2 2.464 200.9093 ...     0.0 48954.0 0.0  0.0    0.0\n",
      "185790887        0    2  2.63 215.7744 ...     0.0 42184.9 0.0  0.0    0.0\n",
      "193208710        0    2   2.7 259.4179 ...     0.0 37235.8 0.0  0.0    0.0\n",
      "Length = 30 rows\n"
     ]
    }
   ],
   "source": [
    "db = om10.DB(catalog='/Users/Jenny/Desktop/om10fork/om10/data/qso_mock.fits')\n",
    "print db.lenses"
   ]
  },
  {
   "cell_type": "code",
   "execution_count": 7,
   "metadata": {
    "collapsed": false
   },
   "outputs": [
    {
     "name": "stdout",
     "output_type": "stream",
     "text": [
      "1\n",
      "2\n",
      "3\n",
      "4\n",
      "5\n",
      "6\n",
      "7\n",
      "8\n",
      "9\n",
      "10\n",
      "11\n",
      "12\n",
      "13\n",
      "14\n",
      "15\n",
      "16\n",
      "17\n",
      "18\n",
      "19\n",
      "20\n",
      "21\n",
      "22\n",
      "23\n",
      "24\n",
      "25\n",
      "26\n",
      "27\n",
      "28\n",
      "29\n",
      "30\n",
      "  LENSID  FLAGTYPE NIMG ZLENS ...     g_SDSS        i_SDSS        z_SDSS   \n",
      "--------- -------- ---- ----- ... ------------- ------------- -------------\n",
      "    14428        0    2 0.062 ... 14.1957678352  13.322432707  13.038405763\n",
      "    21703        0    2 0.072 ... 16.6094570185 15.7217402268 15.4400685277\n",
      "    31711        0    2 0.082 ... 17.1413294429 16.2417754515 15.9582803889\n",
      " 45261779        0    4 1.206 ... 22.8666223827 21.8388445089 20.8950369293\n",
      " 45585755        0    2  1.21 ... 22.7718677746 21.7487864451 20.8112222905\n",
      " 45599247        0    4  1.21 ... 22.3519867466 21.3289054171 20.3913412625\n",
      " 29630335        0    2 0.994 ... 22.0412996047 20.5784509475  19.751884516\n",
      " 29679486        0    4 0.996 ... 24.2110789229 22.7544865544 21.9229197795\n",
      " 29834791        0    2 0.998 ... 23.7996510743 22.3477146193 21.5127057175\n",
      " 89787343        0    2 1.702 ... 21.9156786572 21.4103075843 20.8490524797\n",
      "      ...      ...  ...   ... ...           ...           ...           ...\n",
      "  1458378        0    2 0.308 ... 20.3980438756 18.8890851251 18.6340943593\n",
      "  1467390        0    2 0.308 ... 18.2825342792 16.7735755287 16.5185847629\n",
      "  4414868        0    2 0.462 ... 21.5291781003 19.7551036467 19.4119181119\n",
      "  4479879        0    4 0.464 ... 20.1685712351 18.3921130769 18.0494355787\n",
      "  4523945        0    2 0.466 ... 21.0531324898 19.2745699553 18.9322033455\n",
      "  9364183        0    2 0.616 ... 20.2834889871 18.4189302603 18.0725408922\n",
      "  9416288        0    2 0.618 ... 22.1254512634 20.2601758945 19.9134547798\n",
      "  9441973        0    4 0.618 ... 20.0903994709  18.225124102 17.8784029873\n",
      "168229053        0    2 2.464 ...  24.537361639 24.0630854618 23.9021040757\n",
      "185790887        0    2  2.63 ... 24.5074908886 23.8852859773 23.8479265195\n",
      "193208710        0    2   2.7 ... 23.7746281323 23.0848985623 23.0606775184\n",
      "Length = 30 rows\n"
     ]
    }
   ],
   "source": [
    "db.paint(synthetic=True, target='lens')\n",
    "print db.lenses"
   ]
  },
  {
   "cell_type": "code",
   "execution_count": 8,
   "metadata": {
    "collapsed": false,
    "scrolled": true
   },
   "outputs": [
    {
     "name": "stdout",
     "output_type": "stream",
     "text": [
      "[[  2.29476800e+01   3.85894900e+00   2.64240900e+02   6.20000000e-02\n",
      "    4.01000000e+00]]\n",
      "0.062\n",
      "13.322432707\n",
      "0.59576686674\n",
      "0.277568261457\n",
      "0.284026944019\n",
      "[[  0.062     ]\n",
      " [ 13.32243271]\n",
      " [  0.59576687]\n",
      " [  0.27756826]\n",
      " [  0.28402694]]\n",
      "1.76978\n",
      "0.60634\n",
      "0.32989\n",
      "[  0.352951  18.37282    1.76978    0.60634    0.32989 ]\n",
      "[[  0.062     ]\n",
      " [ 13.32243271]\n",
      " [  0.59576687]\n",
      " [  0.27756826]\n",
      " [  0.28402694]]\n",
      "[[  0.062       13.32243271   0.59576687   0.27756826   0.28402694]]\n",
      "1\n",
      "5\n",
      "OM10: Sample plot saved to file: om10_sample.png\n"
     ]
    },
    {
     "data": {
      "image/png": "[encoded data removed]",
      "text/plain": [
       "<matplotlib.figure.Figure at 0x110fe2110>"
      ]
     },
     "execution_count": 8,
     "metadata": {},
     "output_type": "execute_result"
    },
    {
     "data": {
      "image/png": "[encoded data removed]",
      "text/plain": [
       "<matplotlib.figure.Figure at 0x110fe2110>"
      ]
     },
     "metadata": {},
     "output_type": "display_data"
    }
   ],
   "source": [
    "%matplotlib inline \n",
    "matplotlib.rc('text', usetex=False)\n",
    "# Pull out a specific lens and plot it:\n",
    "id = 14428\n",
    "lens = db.get_lens(id)\n",
    "om10.plot_demo(lens, saveImg=True)"
   ]
  }
 ],
 "metadata": {
  "anaconda-cloud": {},
  "kernelspec": {
   "display_name": "Python [conda env:python2]",
   "language": "python",
   "name": "conda-env-python2-py"
  },
  "language_info": {
   "codemirror_mode": {
    "name": "ipython",
    "version": 2
   },
   "file_extension": ".py",
   "mimetype": "text/x-python",
   "name": "python",
   "nbconvert_exporter": "python",
   "pygments_lexer": "ipython2",
   "version": "2.7.12"
  }
 },
 "nbformat": 4,
 "nbformat_minor": 1
}
