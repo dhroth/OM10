{
 "cells": [
  {
   "cell_type": "code",
   "execution_count": 1,
   "metadata": {
    "collapsed": false
   },
   "outputs": [
    {
     "name": "stderr",
     "output_type": "stream",
     "text": [
      "/Users/Jenny/anaconda/envs/python2/lib/python2.7/site-packages/matplotlib/font_manager.py:273: UserWarning: Matplotlib is building the font cache using fc-list. This may take a moment.\n",
      "  warnings.warn('Matplotlib is building the font cache using fc-list. This may take a moment.')\n"
     ]
    }
   ],
   "source": [
    "#%matplotlib inline\n",
    "%load_ext autoreload\n",
    "%autoreload 2\n",
    "\n",
    "\n",
    "from __future__ import division\n",
    "import os, numpy as np\n",
    "\n",
    "import matplotlib\n",
    "matplotlib.use('TkAgg')\n",
    "# I changed plotting.py - change to numpy\n",
    "# om10 changed\n",
    "import om10"
   ]
  },
  {
   "cell_type": "code",
   "execution_count": 2,
   "metadata": {
    "collapsed": false,
    "scrolled": true
   },
   "outputs": [
    {
     "name": "stdout",
     "output_type": "stream",
     "text": [
      "  LENSID  FLAGTYPE NIMG ZLENS VELDISP  ... SIGCRIT  DSLUM  L_I REFF REFF_T\n",
      "--------- -------- ---- ----- -------- ... ------- ------- --- ---- ------\n",
      "    14428        0    2 0.062 264.2409 ...     0.0 35956.6 0.0  0.0    0.0\n",
      "    21703        0    2 0.072 165.1962 ...     0.0  8193.9 0.0  0.0    0.0\n",
      "    31711        0    2 0.082 155.9553 ...     0.0 35956.6 0.0  0.0    0.0\n",
      " 45261779        0    4 1.206 193.1968 ...     0.0 25319.5 0.0  0.0    0.0\n",
      " 45585755        0    2  1.21  197.697 ...     0.0 25217.1 0.0  0.0    0.0\n",
      " 45599247        0    4  1.21  217.771 ...     0.0 26546.6 0.0  0.0    0.0\n",
      " 29630335        0    2 0.994 220.2926 ...     0.0 36702.6 0.0  0.0    0.0\n",
      " 29679486        0    4 0.996 127.3503 ...     0.0 34259.3 0.0  0.0    0.0\n",
      " 29834791        0    2 0.998 142.8894 ...     0.0 39164.4 0.0  0.0    0.0\n",
      " 89787343        0    2 1.702 269.1535 ...     0.0 36169.7 0.0  0.0    0.0\n",
      "      ...      ...  ...   ...      ... ...     ...     ... ...  ...    ...\n",
      "  1458378        0    2 0.308 172.9816 ...     0.0 20693.1 0.0  0.0    0.0\n",
      "  1467390        0    2 0.308 276.6942 ...     0.0 10909.2 0.0  0.0    0.0\n",
      "  4414868        0    2 0.462 176.1976 ...     0.0 19606.1 0.0  0.0    0.0\n",
      "  4479879        0    4 0.464 241.5461 ...     0.0 30581.3 0.0  0.0    0.0\n",
      "  4523945        0    2 0.466 198.6095 ...     0.0 12086.7 0.0  0.0    0.0\n",
      "  9364183        0    2 0.616 262.4219 ...     0.0 17943.3 0.0  0.0    0.0\n",
      "  9416288        0    2 0.618 173.3804 ...     0.0 19999.9 0.0  0.0    0.0\n",
      "  9441973        0    4 0.618 272.8978 ...     0.0 21289.3 0.0  0.0    0.0\n",
      "168229053        0    2 2.464 200.9093 ...     0.0 48954.0 0.0  0.0    0.0\n",
      "185790887        0    2  2.63 215.7744 ...     0.0 42184.9 0.0  0.0    0.0\n",
      "193208710        0    2   2.7 259.4179 ...     0.0 37235.8 0.0  0.0    0.0\n",
      "Length = 30 rows\n"
     ]
    }
   ],
   "source": [
    "db = om10.DB(catalog='/Users/Jenny/Desktop/om10fork/om10/data/qso_mock.fits')\n",
    "print db.lenses"
   ]
  },
  {
   "cell_type": "code",
   "execution_count": null,
   "metadata": {
    "collapsed": false
   },
   "outputs": [
    {
     "name": "stdout",
     "output_type": "stream",
     "text": [
      "1\n",
      "2\n",
      "3\n",
      "4\n",
      "5\n",
      "6\n",
      "7\n",
      "8\n",
      "9\n",
      "10\n",
      "11\n",
      "12\n",
      "13\n",
      "14\n",
      "15\n",
      "16\n",
      "17\n",
      "18\n",
      "19\n",
      "20\n",
      "21\n",
      "22\n",
      "23\n",
      "24\n",
      "25\n"
     ]
    }
   ],
   "source": [
    "db.paint(synthetic=True, target='lens')\n",
    "print db.lenses"
   ]
  },
  {
   "cell_type": "code",
   "execution_count": null,
   "metadata": {
    "collapsed": false,
    "scrolled": true
   },
   "outputs": [],
   "source": [
    "%matplotlib inline \n",
    "matplotlib.rc('text', usetex=False)\n",
    "# Pull out a specific lens and plot it:\n",
    "id = 14428\n",
    "lens = db.get_lens(id)\n",
    "om10.plot_sample(lens, saveImg=True)"
   ]
  }
 ],
 "metadata": {
  "anaconda-cloud": {},
  "kernelspec": {
   "display_name": "Python [conda env:python2]",
   "language": "python",
   "name": "conda-env-python2-py"
  }
 },
 "nbformat": 4,
 "nbformat_minor": 1
}
