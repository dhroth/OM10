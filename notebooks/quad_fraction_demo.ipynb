{
 "cells": [
  {
   "cell_type": "markdown",
   "metadata": {},
   "source": [
    "# The OM10 Quad Fraction\n",
    "\n",
    "Ongoing lens searches are not finding as many quads as we might hope for. Are the search methods systematically missing quads somehow, or are the OM10 forecasts off?\n",
    "\n",
    "Let's make some mock samples for a few current searches, and revisit the predictions for lens abundance and the quad fraction. The two main potential sources of systematic error in the forecasts are 1) the distribution of external shears and 2) the quasar luminosity function. Let's look at the distributions of shear and source magnitude and redshift across our mock samples, and look for possible problems."
   ]
  },
  {
   "cell_type": "code",
   "execution_count": null,
   "metadata": {
    "collapsed": false
   },
   "outputs": [],
   "source": [
    "%matplotlib inline\n",
    "from __future__ import division, print_function\n",
    "import om10,os\n",
    "import numpy as np\n",
    "import matplotlib.pyplot as plt\n",
    "import corner"
   ]
  },
  {
   "cell_type": "code",
   "execution_count": null,
   "metadata": {
    "collapsed": false
   },
   "outputs": [],
   "source": [
    "# SQLS-like sample, but 10 times the area:\n",
    "db = om10.DB()\n",
    "db.select_random(maglim=18.0,area=100000.0,IQ=1.4)\n",
    "\n",
    "quads = db.sample[db.sample['NIMG'] == 4]\n",
    "doubles = db.sample[db.sample['NIMG'] == 2]\n",
    "\n",
    "print('Predicted number of quads, doubles: ', 0.01*len(quads),',',0.01*len(doubles))\n",
    "print('Predicted quad fraction: ', str(int(100.0*len(quads)/(1.0*len(doubles))))+'%')\n",
    "\n",
    "print(\"Compare with 4 quads, 19 doubles.\") "
   ]
  },
  {
   "cell_type": "code",
   "execution_count": null,
   "metadata": {
    "collapsed": false
   },
   "outputs": [],
   "source": [
    "fig = plt.figure()\n",
    "ax = fig.add_subplot(111)\n",
    "ax.hist(doubles['GAMMA'].flatten(), bins=np.arange(0, 0.1, 0.01), alpha=1.0, lw=1, fc='blue')\n",
    "ax.hist(quads['GAMMA'].flatten(), bins=np.arange(0, 0.1, 0.01), alpha=1.0, lw=3, fc='red')\n",
    "ax.set_xlim(-0.01, 0.11)\n",
    "ax.set_ylim(0,70)\n",
    "plt.xlabel('External shear $\\gamma_{\\\\rm ext}$')\n",
    "plt.ylabel('Number of lenses')"
   ]
  },
  {
   "cell_type": "code",
   "execution_count": null,
   "metadata": {
    "collapsed": false
   },
   "outputs": [],
   "source": [
    "def extract_features(db):\n",
    "    features = np.array([db['MAGI'],db['IMSEP'],db['MAGI_IN'],db['GAMMA']]).transpose()\n",
    "    labels = ['$i_3$','$\\Delta \\\\theta$ / arcsec','$i_s$','$\\gamma$']\n",
    "    return features, labels\n",
    "\n",
    "d,labels = extract_features(doubles)\n",
    "q,labels = extract_features(quads)\n",
    "\n",
    "fig = corner.corner(q,labels=labels,color='blue')\n",
    "_ = corner.corner(d,labels=labels,color='red',fig=fig)"
   ]
  },
  {
   "cell_type": "code",
   "execution_count": null,
   "metadata": {
    "collapsed": true
   },
   "outputs": [],
   "source": []
  },
  {
   "cell_type": "code",
   "execution_count": null,
   "metadata": {
    "collapsed": true
   },
   "outputs": [],
   "source": []
  }
 ],
 "metadata": {
  "kernelspec": {
   "display_name": "Python 2",
   "language": "python",
   "name": "python2"
  },
  "language_info": {
   "codemirror_mode": {
    "name": "ipython",
    "version": 2
   },
   "file_extension": ".py",
   "mimetype": "text/x-python",
   "name": "python",
   "nbconvert_exporter": "python",
   "pygments_lexer": "ipython2",
   "version": "2.7.12"
  }
 },
 "nbformat": 4,
 "nbformat_minor": 1
}
