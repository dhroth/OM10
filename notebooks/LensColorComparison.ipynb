{
 "cells": [
  {
   "cell_type": "raw",
   "metadata": {},
   "source": [
    "This is a cornerplot of colored lens galaxies.\n",
    "The red ones are SDSS LRGs in data/SDSS_LRGs.txt, and the blue ones are newly painted OM10 lenses with lenspop.\n",
    "I chose 1000 lenses to overlay to the red SDSS LRGs."
   ]
  },
  {
   "cell_type": "code",
   "execution_count": 1,
   "metadata": {
    "collapsed": false
   },
   "outputs": [
    {
     "name": "stderr",
     "output_type": "stream",
     "text": [
      "/Users/Jenny/anaconda/envs/python2/lib/python2.7/site-packages/matplotlib/font_manager.py:273: UserWarning: Matplotlib is building the font cache using fc-list. This may take a moment.\n",
      "  warnings.warn('Matplotlib is building the font cache using fc-list. This may take a moment.')\n",
      "/Users/Jenny/anaconda/envs/python2/lib/python2.7/site-packages/matplotlib/__init__.py:1357: UserWarning:  This call to matplotlib.use() has no effect\n",
      "because the backend has already been chosen;\n",
      "matplotlib.use() must be called *before* pylab, matplotlib.pyplot,\n",
      "or matplotlib.backends is imported for the first time.\n",
      "\n",
      "  warnings.warn(_use_error_msg)\n"
     ]
    }
   ],
   "source": [
    "#%matplotlib inline\n",
    "%load_ext autoreload\n",
    "%autoreload 2\n",
    "%matplotlib inline \n",
    "from __future__ import division\n",
    "import os, numpy as np\n",
    "import matplotlib\n",
    "matplotlib.use('TkAgg')\n",
    "matplotlib.rc('text', usetex=False)\n",
    "import corner\n",
    "# I changed plotting.py - change to numpy\n",
    "# om10 changed\n",
    "import om10\n",
    "from om10 import plotting\n",
    "\n",
    "from astropy.table import Table"
   ]
  },
  {
   "cell_type": "code",
   "execution_count": null,
   "metadata": {
    "collapsed": false
   },
   "outputs": [
    {
     "name": "stdout",
     "output_type": "stream",
     "text": [
      "om10.DB: selection yields  200  lenses\n",
      "200\n"
     ]
    }
   ],
   "source": [
    "# Paint the colors\n",
    "\n",
    "db = om10.DB(catalog='/Users/Jenny/Desktop/om10fork/om10/data/qso_mock.fits')\n",
    "db.select_random(Nlens=200,maglim=30)"
   ]
  },
  {
   "cell_type": "code",
   "execution_count": null,
   "metadata": {
    "collapsed": false
   },
   "outputs": [],
   "source": [
    "db.paint(synthetic=True, target='lens')\n",
    "# put color index column in paint"
   ]
  },
  {
   "cell_type": "code",
   "execution_count": null,
   "metadata": {
    "collapsed": false
   },
   "outputs": [],
   "source": [
    "%%capture\n",
    "# We need only one cornerplot in one notebook, so don't show output by having the command above\n",
    "matplotlib.rc('text', usetex=False)\n",
    "\n",
    "fig = om10.plot_sample(db.sample, color='blue', parameters=('MAGI','ZLENS', 'GR', 'RI', 'IZ'))"
   ]
  },
  {
   "cell_type": "code",
   "execution_count": null,
   "metadata": {
    "collapsed": true
   },
   "outputs": [],
   "source": [
    "# Initialize everything to make a cornerplot\n",
    "# Rather than changing db.py to enable reading text files I just did in Jupyter\n",
    "\n",
    "axis_labels = {}\n",
    "axis_labels['ZLENS'] = '$z_d$'\n",
    "axis_labels['MAGI'] = '$i_3$'\n",
    "axis_labels['GR'] = '$G-R$'\n",
    "axis_labels['RI'] = '$R-I$'\n",
    "axis_labels['IZ'] = '$I-Z$'"
   ]
  },
  {
   "cell_type": "code",
   "execution_count": null,
   "metadata": {
    "collapsed": false
   },
   "outputs": [],
   "source": [
    "# load the \"real\" values and overlap it with the previous one\n",
    "# ra  dec  z  mag_u  mag_g  mag_r  mag_i  mag_z\n",
    "table = np.loadtxt('../data/SDSS_LRGs.txt')\n",
    "\n",
    "table = table[table[:,6]<35]\n",
    "\n",
    "z = table[:,2]\n",
    "i = table[:,6]\n",
    "gr = table[:,4]-table[:,5]\n",
    "ri = table[:,5]-table[:,6]\n",
    "iz = table[:,6]-table[:,7]\n",
    "\n",
    "data = Table({'MAGI': i, 'ZLENS': z, 'GR': gr, 'RI': ri, 'IZ': iz}, names=['MAGI', 'ZLENS', 'GR', 'RI', 'IZ'])\n",
    "features, labels = plotting.extract_features(data, ('MAGI','ZLENS', 'GR', 'RI', 'IZ'))\n",
    "corner.corner(features, labels=labels, color='red', smooth=1.0, fig=fig)"
   ]
  }
 ],
 "metadata": {
  "anaconda-cloud": {},
  "kernelspec": {
   "display_name": "Python [conda env:python2]",
   "language": "python",
   "name": "conda-env-python2-py"
  },
  "language_info": {
   "codemirror_mode": {
    "name": "ipython",
    "version": 2
   },
   "file_extension": ".py",
   "mimetype": "text/x-python",
   "name": "python",
   "nbconvert_exporter": "python",
   "pygments_lexer": "ipython2",
   "version": "2.7.12"
  }
 },
 "nbformat": 4,
 "nbformat_minor": 1
}
