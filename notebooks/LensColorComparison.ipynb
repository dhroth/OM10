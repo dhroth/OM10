{
 "cells": [
  {
   "cell_type": "markdown",
   "metadata": {},
   "source": [
    "### Comparing the Color of Lenses\n",
    "\n",
    "Jenny Kim, Phil Marshall\n",
    "\n",
    "The OM10 mock lensed quasar catalog `qso_mock.fits` contains estimates of the lens galaxy $i$-band magnitudes, based on a simple Faber-Jackson scaling implemented by Phil Marshall. With the `lenspop` library we can compute synthetic magnitudes in any filter. In this notebook, we will look at the differences in the distributions of the 1) redshift, 2) $i$-band magnitude, 3) $G-R$ magnitude, 4) $R-I$ magnitude, and 5) $I-Z$ magnitude between the known SDSS values and the colored magnitudes for each lens by drawing a cornerplot."
   ]
  },
  {
   "cell_type": "markdown",
   "metadata": {},
   "source": [
    "### Requirements\n",
    "\n",
    "`om10`, `qso_mock.fits`, and `om10`'s dependencies:"
   ]
  },
  {
   "cell_type": "code",
   "execution_count": 6,
   "metadata": {
    "collapsed": false
   },
   "outputs": [
    {
     "name": "stdout",
     "output_type": "stream",
     "text": [
      "The autoreload extension is already loaded. To reload it, use:\n",
      "  %reload_ext autoreload\n"
     ]
    }
   ],
   "source": [
    "import warnings\n",
    "warnings.filterwarnings('ignore')\n",
    "%load_ext autoreload\n",
    "%autoreload 2\n",
    "%matplotlib inline "
   ]
  },
  {
   "cell_type": "code",
   "execution_count": 7,
   "metadata": {
    "collapsed": false
   },
   "outputs": [],
   "source": [
    "from __future__ import division\n",
    "import os, numpy as np\n",
    "import corner\n",
    "import om10\n",
    "from om10 import plotting\n",
    "from astropy.table import Table\n",
    "import matplotlib\n",
    "matplotlib.use('TkAgg')\n",
    "matplotlib.rc('text', usetex=False)"
   ]
  },
  {
   "cell_type": "markdown",
   "metadata": {},
   "source": [
    "First, let's read the catalog and select 200 lenses whose magnitude is smaller than 27. Then, let's paint the lenses."
   ]
  },
  {
   "cell_type": "code",
   "execution_count": 8,
   "metadata": {
    "collapsed": false,
    "scrolled": true
   },
   "outputs": [],
   "source": [
    "%%capture\n",
    "db = om10.DB(catalog='/Users/Jenny/Desktop/om10fork/om10/data/qso_mock.fits')\n",
    "db.select_random(Nlens=200,maglim=23.6)\n",
    "db.paint(synthetic=True, target='lens')"
   ]
  },
  {
   "cell_type": "markdown",
   "metadata": {},
   "source": [
    "We initialize the array for redshift, $i$-magnitude, $G-R$ magnitude, $R-I$ magnitude, and $I-Z$ magnitude. Then, we select 50 random numbers from 0 to length of qso array, painting them with the color_demo file which extends lenspop library to compute the synthetic magnitude."
   ]
  },
  {
   "cell_type": "code",
   "execution_count": 9,
   "metadata": {
    "collapsed": true
   },
   "outputs": [],
   "source": [
    "axis_labels = {}\n",
    "axis_labels['ZLENS'] = '$z_d$'\n",
    "axis_labels['MAGI'] = '$i_3$'\n",
    "axis_labels['GR'] = '$g-r$'\n",
    "axis_labels['RI'] = '$r-i$'\n",
    "axis_labels['IZ'] = '$i-z$'"
   ]
  },
  {
   "cell_type": "markdown",
   "metadata": {},
   "source": [
    "Draw the cornerplot with the arguments in axis_labels and save it first so that we could overlap it with the second cornerplot. Two cornerplot seems a lot, but corner.corner automatically displays the cornerplot in jupyter. However, using %%capture stops jupyter displaying the cornerplot."
   ]
  },
  {
   "cell_type": "code",
   "execution_count": 10,
   "metadata": {
    "collapsed": false
   },
   "outputs": [
    {
     "ename": "SyntaxError",
     "evalue": "invalid syntax (<ipython-input-10-1d66ce9232d0>, line 13)",
     "output_type": "error",
     "traceback": [
      "\u001b[0;36m  File \u001b[0;32m\"<ipython-input-10-1d66ce9232d0>\"\u001b[0;36m, line \u001b[0;32m13\u001b[0m\n\u001b[0;31m    %%capture\u001b[0m\n\u001b[0m    ^\u001b[0m\n\u001b[0;31mSyntaxError\u001b[0m\u001b[0;31m:\u001b[0m invalid syntax\n"
     ]
    }
   ],
   "source": [
    "%%capture\n",
    "# Columns : ra  dec  z  mag_u  mag_g  mag_r  mag_i  mag_z\n",
    "table = np.loadtxt('../data/SDSS_LRGs.txt')\n",
    "# eliminate outliers using original data\n",
    "table = table[np.logical_and(table[:,6]<23.6, table[:,2]<3, 14<table[:,6])]\n",
    "z = table[:,2]\n",
    "i = table[:,6]\n",
    "gr = table[:,4]-table[:,5]\n",
    "ri = table[:,5]-table[:,6]\n",
    "iz = table[:,6]-table[:,7]\n",
    "\n",
    "db.gaussian_reweight(np.mean(z), np.std(z))\n",
    "# We need only one cornerplot in one notebook, so don't show output by having the command below\n",
    "fig = om10.plot_sample(db.sample, color='blue', weight=True, parameters=('MAGI','ZLENS', 'GR', 'RI', 'IZ'))"
   ]
  },
  {
   "cell_type": "markdown",
   "metadata": {},
   "source": [
    "Then, we will overlap the synthetically colored samples with the original data. Ideally, the distributions of the data should be similar, and the blue contours and the red contours should have significant overlap. While plotting the data onto the cornerplot, we should eliminate the outliers."
   ]
  },
  {
   "cell_type": "code",
   "execution_count": null,
   "metadata": {
    "collapsed": true
   },
   "outputs": [],
   "source": [
    "# eliminate outliers after the operation\n",
    "# gr = table[:,4]-table[:,5], iz = table[:,6]-table[:,7]\n",
    "z = z[(0<table[:,6]-table[:,7]) & (table[:,4]-table[:,5]<2.8)]\n",
    "i = i[(0<table[:,6]-table[:,7]) & (table[:,4]-table[:,5]<2.8)]\n",
    "gr = gr[(0<table[:,6]-table[:,7]) & (table[:,4]-table[:,5]<2.8)]\n",
    "ri = ri[(0<table[:,6]-table[:,7]) & (table[:,4]-table[:,5]<2.8)]\n",
    "iz = iz[(0<table[:,6]-table[:,7]) & (table[:,4]-table[:,5]<2.8)]\n",
    "\n",
    "data = Table({'MAGI': i, 'ZLENS': z, 'GR': gr, 'RI': ri, 'IZ': iz}, names=['MAGI', 'ZLENS', 'GR', 'RI', 'IZ'])\n",
    "features, labels = plotting.extract_features(data, ('MAGI','ZLENS', 'GR', 'RI', 'IZ'))\n",
    "corner.corner(features, labels=labels, color='red', smooth=1.0, fig=fig)"
   ]
  },
  {
   "cell_type": "markdown",
   "metadata": {},
   "source": [
    "### Discussion\n",
    "\n",
    "Red(the real data) and the blue(synthetically colored data) contours somewhat look similar to each other, but the blue data did not have the exact same boundary with the red data. Just like QuasarColorMagnitude, the biggest problem seems to be the differences in $i$-magnitude. It might be worth double-checking the synthetic magnitude calculation."
   ]
  }
 ],
 "metadata": {
  "anaconda-cloud": {},
  "kernelspec": {
   "display_name": "Python [conda env:python2]",
   "language": "python",
   "name": "conda-env-python2-py"
  },
  "language_info": {
   "codemirror_mode": {
    "name": "ipython",
    "version": 2
   },
   "file_extension": ".py",
   "mimetype": "text/x-python",
   "name": "python",
   "nbconvert_exporter": "python",
   "pygments_lexer": "ipython2",
   "version": "2.7.12"
  }
 },
 "nbformat": 4,
 "nbformat_minor": 1
}
