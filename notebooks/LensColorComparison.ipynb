{
 "cells": [
  {
   "cell_type": "markdown",
   "metadata": {},
   "source": [
    "### Comparing the Color of Lenses\n",
    "\n",
    "Jenny Kim, Phil Marshall\n",
    "\n",
    "The OM10 mock lensed quasar catalog `qso_mock.fits` contains estimates of the lens galaxy $i$-band magnitudes, based on a simple Faber-Jackson scaling implemented by Phil Marshall. With the `lenspop` library we can compute synthetic magnitudes in any filter. In this notebook, we will look at the differences in the distributions of the 1) redshift, 2) $i$-band magnitude, 3) $g-r$ magnitude, 4) $r-i$ magnitude, and 5) $i-z$ magnitude between the known SDSS values and the colored magnitudes for each lens by drawing a cornerplot."
   ]
  },
  {
   "cell_type": "markdown",
   "metadata": {},
   "source": [
    "### Requirements\n",
    "\n",
    "`om10`, `qso_mock.fits`, and `om10`'s dependencies:"
   ]
  },
  {
   "cell_type": "code",
   "execution_count": 8,
   "metadata": {
    "collapsed": false
   },
   "outputs": [
    {
     "name": "stdout",
     "output_type": "stream",
     "text": [
      "The autoreload extension is already loaded. To reload it, use:\n",
      "  %reload_ext autoreload\n"
     ]
    }
   ],
   "source": [
    "import warnings\n",
    "warnings.filterwarnings('ignore')\n",
    "%load_ext autoreload\n",
    "%autoreload 2\n",
    "%matplotlib inline "
   ]
  },
  {
   "cell_type": "code",
   "execution_count": 9,
   "metadata": {
    "collapsed": false
   },
   "outputs": [],
   "source": [
    "from __future__ import division\n",
    "import os, numpy as np\n",
    "import corner\n",
    "import om10\n",
    "from om10 import plotting\n",
    "from astropy.table import Table\n",
    "import matplotlib\n",
    "matplotlib.use('TkAgg')\n",
    "matplotlib.rc('text', usetex=False)"
   ]
  },
  {
   "cell_type": "markdown",
   "metadata": {},
   "source": [
    "First, let's read the catalog and select 200 lenses whose magnitudes are smaller than 23.6. Then, let's paint the lenses."
   ]
  },
  {
   "cell_type": "code",
   "execution_count": null,
   "metadata": {
    "collapsed": false,
    "scrolled": false
   },
   "outputs": [],
   "source": [
    "#%%capture\n",
    "db = om10.DB(catalog='/Users/Jenny/Desktop/om10fork/om10/data/qso_mock.fits')\n",
    "print db.sample.keys()\n",
    "print db.sample[db.sample['ZSRC']>0]\n",
    "db.select_random(Nlens=200,maglim=23.6)\n",
    "np.mean(db.sample['ZLENS']), np.std(db.sample['ZLENS'])\n",
    "#db.paint(synthetic=True, target='lens')\n",
    "# save to different .fits file\n",
    "#db.write_table('lens_sample_colored.fits')"
   ]
  },
  {
   "cell_type": "markdown",
   "metadata": {},
   "source": [
    "Draw the cornerplot with the arguments in axis_labels and save it first so that we could overlap it with the second cornerplot. Two cornerplot seems too many, but corner.corner automatically displays the cornerplot in jupyter. However, using %%capture suppresses the output."
   ]
  },
  {
   "cell_type": "code",
   "execution_count": null,
   "metadata": {
    "collapsed": false
   },
   "outputs": [],
   "source": [
    "#om10 uses usetex=True, which sometimes generates error when using matplotlib. To be safe, let's disable usetex.\n",
    "matplotlib.rc('text', usetex=False)\n",
    "# Columns : ra  dec  z  mag_u  mag_g  mag_r  mag_i  mag_z\n",
    "table = np.loadtxt('../data/SDSS_LRGs.txt')\n",
    "# eliminate outliers using original data\n",
    "table = table[np.logical_and(table[:,6]<20, table[:,2]<3, 14<table[:,6])]\n",
    "z = table[:,2]\n",
    "i = table[:,6]\n",
    "gr = table[:,4]-table[:,5]\n",
    "ri = table[:,5]-table[:,6]\n",
    "iz = table[:,6]-table[:,7]"
   ]
  },
  {
   "cell_type": "markdown",
   "metadata": {},
   "source": [
    "Then, we need to weight the mocked lenses with respect to the parent population. The parent population would be gaussian distributed, and the mean would be given by $np.mean(z)$ and the standard deviation would be given by $np.std(z)$.\n",
    "\n",
    "The weight could be calculated by using this formula:\n",
    "\n",
    "$$\\frac { P(redshift) }{ Q(redshift) } $$\n",
    "\n",
    "where P(redshift) is a y-value of redshift in the parent normal distribution and Q(redshift) is a y-value of redshift in the mock, colored lenses. `gaussian_reweight` method in OM10 does the calculation."
   ]
  },
  {
   "cell_type": "code",
   "execution_count": null,
   "metadata": {
    "collapsed": false
   },
   "outputs": [],
   "source": [
    "%%capture\n",
    "db.gaussian_reweight(np.mean(z), np.std(z))\n",
    "matplotlib.rc('text', usetex=False)\n",
    "# GR Color index\n",
    "gr = db.sample['g_sdss'] - db.sample['r_sdss']\n",
    "ri = db.sample['r_sdss'] - db.sample['i_sdss']\n",
    "iz = db.sample['i_sdss'] - db.sample['z_sdss']\n",
    "data = Table({'i_sdss': db.sample['i_sdss'], 'ZLENS': db.sample['ZLENS'], 'GR': gr, 'RI': ri, 'IZ': iz}, names=['i_sdss', 'ZLENS', 'GR', 'RI', 'IZ'])\n",
    "features, labels = plotting.extract_features(data, ('MAGI','ZLENS', 'GR', 'RI', 'IZ'))\n",
    "corner.corner(features, labels=labels, color='blue', smooth=1.0, hist_kwargs=dict(normed=True))"
   ]
  },
  {
   "cell_type": "markdown",
   "metadata": {},
   "source": [
    "Then, we will overlap the synthetically colored samples with the original data. Ideally, the distributions of the data should look similar, and the blue contours and the red contours should have significant overlap. While plotting the data onto the cornerplot, we should eliminate the outliers."
   ]
  },
  {
   "cell_type": "code",
   "execution_count": null,
   "metadata": {
    "collapsed": false
   },
   "outputs": [],
   "source": [
    "# eliminate outliers after the operation\n",
    "z = z[(0<table[:,6]-table[:,7]) & (table[:,4]-table[:,5]<2.8)]\n",
    "i = i[(0<table[:,6]-table[:,7]) & (table[:,4]-table[:,5]<2.8)]\n",
    "gr = gr[(0<table[:,6]-table[:,7]) & (table[:,4]-table[:,5]<2.8)]\n",
    "ri = ri[(0<table[:,6]-table[:,7]) & (table[:,4]-table[:,5]<2.8)]\n",
    "iz = iz[(0<table[:,6]-table[:,7]) & (table[:,4]-table[:,5]<2.8)]\n",
    "\n",
    "data = Table({'MAGI': i, 'ZLENS': z, 'GR': gr, 'RI': ri, 'IZ': iz}, names=['i_sdss', 'ZLENS', 'GR', 'RI', 'IZ'])\n",
    "features, labels = plotting.extract_features(data, ('MAGI','ZLENS', 'GR', 'RI', 'IZ'))\n",
    "corner.corner(features, labels=labels, color='red', smooth=1.0, fig=fig, hist_kwargs=dict(normed=True))"
   ]
  },
  {
   "cell_type": "markdown",
   "metadata": {},
   "source": [
    "### Discussion\n",
    "\n",
    "Red(the real data) and the blue(synthetically colored data) contours look really similar to each other. Because of the very first histogram, we suspected that there would be a lot more data beyond $~19$ magnitude, but the maximum magnitude in $i$ array was 19.45698."
   ]
  }
 ],
 "metadata": {
  "anaconda-cloud": {},
  "kernelspec": {
   "display_name": "Python [conda env:python2]",
   "language": "python",
   "name": "conda-env-python2-py"
  },
  "language_info": {
   "codemirror_mode": {
    "name": "ipython",
    "version": 2
   },
   "file_extension": ".py",
   "mimetype": "text/x-python",
   "name": "python",
   "nbconvert_exporter": "python",
   "pygments_lexer": "ipython2",
   "version": "2.7.12"
  }
 },
 "nbformat": 4,
 "nbformat_minor": 1
}
