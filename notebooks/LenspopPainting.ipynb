{
 "cells": [
  {
   "cell_type": "markdown",
   "metadata": {},
   "source": [
    "This demo notebook shows how to paint lenses with lenspop."
   ]
  },
  {
   "cell_type": "markdown",
   "metadata": {},
   "source": [
    "First, we import om10 package. It could be downloaded by the command `pip install om10`."
   ]
  },
  {
   "cell_type": "code",
   "execution_count": 1,
   "metadata": {
    "collapsed": false,
    "scrolled": true
   },
   "outputs": [],
   "source": [
    "import om10"
   ]
  },
  {
   "cell_type": "markdown",
   "metadata": {},
   "source": [
    "Then, we pass `qso_mock.fits` to the om10 constructor."
   ]
  },
  {
   "cell_type": "code",
   "execution_count": 2,
   "metadata": {
    "collapsed": false,
    "scrolled": false
   },
   "outputs": [
    {
     "name": "stdout",
     "output_type": "stream",
     "text": [
      "  LENSID  FLAGTYPE NIMG ZLENS VELDISP  ... SIGCRIT  DSLUM  L_I REFF REFF_T\n",
      "--------- -------- ---- ----- -------- ... ------- ------- --- ---- ------\n",
      "    14428        0    2 0.062 264.2409 ...     0.0 35956.6 0.0  0.0    0.0\n",
      "    21703        0    2 0.072 165.1962 ...     0.0  8193.9 0.0  0.0    0.0\n",
      "    31711        0    2 0.082 155.9553 ...     0.0 35956.6 0.0  0.0    0.0\n",
      "    34331        0    2 0.084 172.5838 ...     0.0 14498.4 0.0  0.0    0.0\n",
      "    51810        0    2 0.096 244.9063 ...     0.0 26239.2 0.0  0.0    0.0\n",
      "    83414        0    2 0.114   154.17 ...     0.0 11904.1 0.0  0.0    0.0\n",
      "   115074        0    2 0.128 113.5011 ...     0.0 7101.16 0.0  0.0    0.0\n",
      "   125027        0    2  0.13 247.1724 ...     0.0 16302.5 0.0  0.0    0.0\n",
      "   147709        0    2 0.138 200.9093 ...     0.0 17748.4 0.0  0.0    0.0\n",
      "   180815        0    2 0.148 185.3532 ...     0.0 14029.4 0.0  0.0    0.0\n",
      "      ...      ...  ...   ...      ... ...     ...     ... ...  ...    ...\n",
      "113167635        0    2 1.936 250.6109 ...     0.0 47637.1 0.0  0.0    0.0\n",
      "115614728        0    4  1.96 242.1029 ...     0.0 38304.5 0.0  0.0    0.0\n",
      "118666840        0    2  1.99 207.9697 ...     0.0 27265.9 0.0  0.0    0.0\n",
      "120546345        0    2 2.008 281.8383 ...     0.0 28090.1 0.0  0.0    0.0\n",
      "123598414        0    2 2.038 199.5262 ...     0.0 31000.1 0.0  0.0    0.0\n",
      "129002676        0    2  2.09 236.0478 ...     0.0 39270.7 0.0  0.0    0.0\n",
      "138366386        0    2  2.18 227.5097 ...     0.0 36169.7 0.0  0.0    0.0\n",
      "157075130        0    2 2.358 258.8213 ...     0.0 29955.8 0.0  0.0    0.0\n",
      "168229053        0    2 2.464 200.9093 ...     0.0 48954.0 0.0  0.0    0.0\n",
      "185790887        0    2  2.63 215.7744 ...     0.0 42184.9 0.0  0.0    0.0\n",
      "193208710        0    2   2.7 259.4179 ...     0.0 37235.8 0.0  0.0    0.0\n",
      "Length = 15658 rows\n"
     ]
    }
   ],
   "source": [
    "db = om10.DB(catalog='/Users/Jenny/Desktop/om10fork/om10/data/qso_mock.fits')\n",
    "print db.lenses"
   ]
  },
  {
   "cell_type": "markdown",
   "metadata": {},
   "source": [
    "We then call the paint method with `synthetic=True`. Because we are coloring the lenses, we should specify our target type by setting `target=lens`."
   ]
  },
  {
   "cell_type": "code",
   "execution_count": null,
   "metadata": {
    "collapsed": false
   },
   "outputs": [],
   "source": [
    "db.paint(synthetic=True, target='lens')\n",
    "print db.sample"
   ]
  }
 ],
 "metadata": {
  "anaconda-cloud": {},
  "kernelspec": {
   "display_name": "Python [conda env:python2]",
   "language": "python",
   "name": "conda-env-python2-py"
  },
  "language_info": {
   "codemirror_mode": {
    "name": "ipython",
    "version": 2
   },
   "file_extension": ".py",
   "mimetype": "text/x-python",
   "name": "python",
   "nbconvert_exporter": "python",
   "pygments_lexer": "ipython2",
   "version": "2.7.12"
  }
 },
 "nbformat": 4,
 "nbformat_minor": 1
}
