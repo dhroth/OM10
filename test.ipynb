{
 "cells": [
  {
   "cell_type": "code",
   "execution_count": 40,
   "metadata": {
    "collapsed": true
   },
   "outputs": [],
   "source": [
    "from stellarpop import tools"
   ]
  },
  {
   "cell_type": "code",
   "execution_count": 41,
   "metadata": {
    "collapsed": false
   },
   "outputs": [
    {
     "name": "stdout",
     "output_type": "stream",
     "text": [
      "-20.1772270334\n"
     ]
    }
   ],
   "source": [
    "source_redshift = 3.0\n",
    "sed = tools.getSED('QSO2_template_norm') # change to red galaxy SED\n",
    "colorFilter = tools.filterfromfile('r_SDSS')\n",
    "source_AB_mag_abs = tools.ABFilterMagnitude(filters, sed, lens_redshift)\n",
    "print source_AB_mag_abs"
   ]
  },
  {
   "cell_type": "code",
   "execution_count": 42,
   "metadata": {
    "collapsed": false
   },
   "outputs": [
    {
     "name": "stdout",
     "output_type": "stream",
     "text": [
      "-19.3962460114\n"
     ]
    }
   ],
   "source": [
    "lens_redshift = 1.5\n",
    "sed = tools.getSED('M82_template_norm') # change to red galaxy SED\n",
    "colorFilter = tools.filterfromfile('r_SDSS')\n",
    "lens_AB_mag_abs = tools.ABFilterMagnitude(filters, sed, lens_redshift)\n",
    "print lens_AB_mag_abs"
   ]
  },
  {
   "cell_type": "code",
   "execution_count": 43,
   "metadata": {
    "collapsed": false
   },
   "outputs": [
    {
     "name": "stdout",
     "output_type": "stream",
     "text": [
      "-19.8335408911\n"
     ]
    }
   ],
   "source": [
    "lens_redshift = 1.0\n",
    "sed = tools.getSED('M82_template_norm') # change to red galaxy SED\n",
    "colorFilter = tools.filterfromfile('r_SDSS')\n",
    "lens_AB_mag_abs = tools.ABFilterMagnitude(filters, sed, lens_redshift)\n",
    "print lens_AB_mag_abs"
   ]
  },
  {
   "cell_type": "code",
   "execution_count": 44,
   "metadata": {
    "collapsed": false
   },
   "outputs": [
    {
     "name": "stdout",
     "output_type": "stream",
     "text": [
      "-20.1772270334\n"
     ]
    }
   ],
   "source": [
    "source_redshift = 1.0\n",
    "sed = tools.getSED('QSO2_template_norm') # change to red galaxy SED\n",
    "colorFilter = tools.filterfromfile('r_SDSS')\n",
    "source_AB_mag_abs = tools.ABFilterMagnitude(filters, sed, lens_redshift)\n",
    "print source_AB_mag_abs"
   ]
  }
 ],
 "metadata": {
  "anaconda-cloud": {},
  "kernelspec": {
   "display_name": "Python [conda env:python2]",
   "language": "python",
   "name": "conda-env-python2-py"
  },
  "language_info": {
   "codemirror_mode": {
    "name": "ipython",
    "version": 2
   },
   "file_extension": ".py",
   "mimetype": "text/x-python",
   "name": "python",
   "nbconvert_exporter": "python",
   "pygments_lexer": "ipython2",
   "version": "2.7.12"
  }
 },
 "nbformat": 4,
 "nbformat_minor": 1
}
